{
  "cells": [
    {
      "cell_type": "markdown",
      "metadata": {
        "id": "view-in-github",
        "colab_type": "text"
      },
      "source": [
        "<a href=\"https://colab.research.google.com/github/reutdayan/ML-KNN/blob/main/NeuralNetworks.ipynb\" target=\"_parent\"><img src=\"https://colab.research.google.com/assets/colab-badge.svg\" alt=\"Open In Colab\"/></a>"
      ]
    },
    {
      "cell_type": "markdown",
      "metadata": {
        "id": "mj5Gc4rTncj6"
      },
      "source": [
        "<h1><center><b>Machine Learning</b></center></h1>\n",
        "<h3><center>Exercise 5</center></h3>\n",
        "<h4><center>Despite the option of submitting 5/6 assignments, this assignment is mandatory.<center></h4>"
      ]
    },
    {
      "cell_type": "markdown",
      "metadata": {
        "id": "6puOk_GYzsiK"
      },
      "source": [
        "*Your* Name:  \n",
        "<font color='red'>\n",
        "Reut Dayan, 206433245\n",
        "</font>\n"
      ]
    },
    {
      "cell_type": "markdown",
      "metadata": {
        "id": "iisJZQc9P3du"
      },
      "source": [
        "**Instructions:**\n",
        "- Create a copy of this notebook and implement your code in it.\n",
        "- Make sure you don't leave empty cells or empty answers.\n",
        "- You should not change the code we provided you.\n",
        "- When you finish the assignment, download this ***notebook*** and ***predictions.txt*** and submit it to the [**\"submit\"**](https://submit.cs.biu.ac.il/cgi-bin/welcome.cgi) system. \n",
        "To Download the notebook go to **\"File\"** -> **\"Download .ipynb\"**.  \n",
        "- Submit deadline: 3/1/2023"
      ]
    },
    {
      "cell_type": "markdown",
      "metadata": {
        "id": "M7KcfDUSQ6hB"
      },
      "source": [
        "## Part 1 - Neural Network using NumPy"
      ]
    },
    {
      "cell_type": "markdown",
      "metadata": {
        "id": "0PDvBctcT5j_"
      },
      "source": [
        "In this part we learn to:\n",
        "1. Load and preprocess datasets.\n",
        "2. Implement and train a neural network (multi-layer perceptron) for handwriting recognition (MNIST dataset), using numpy only.\n",
        "\n",
        "\n"
      ]
    },
    {
      "cell_type": "markdown",
      "metadata": {
        "id": "QebhdAoMTZxN"
      },
      "source": [
        "### **1. Dataset**\n"
      ]
    },
    {
      "cell_type": "markdown",
      "metadata": {
        "id": "lGPgtwcbYEEC"
      },
      "source": [
        "Import useful packages"
      ]
    },
    {
      "cell_type": "code",
      "execution_count": null,
      "metadata": {
        "id": "QCxElW-dYHPG"
      },
      "outputs": [],
      "source": [
        "import numpy as np\n",
        "import matplotlib\n",
        "import matplotlib.pyplot as plt\n",
        "from sklearn.datasets import fetch_openml"
      ]
    },
    {
      "cell_type": "markdown",
      "metadata": {
        "id": "AahLMywDUTaN"
      },
      "source": [
        "Download the MNIST dataset "
      ]
    },
    {
      "cell_type": "code",
      "execution_count": null,
      "metadata": {
        "colab": {
          "base_uri": "https://localhost:8080/"
        },
        "id": "KvLP-9TtTytH",
        "outputId": "92f390b0-162d-40aa-c9a8-48d88d1945bb"
      },
      "outputs": [
        {
          "output_type": "stream",
          "name": "stdout",
          "text": [
            "(70000, 784) (70000,)\n"
          ]
        }
      ],
      "source": [
        "X, y = fetch_openml('mnist_784', return_X_y=True, as_frame=False)\n",
        "print(X.shape, y.shape)\n"
      ]
    },
    {
      "cell_type": "markdown",
      "metadata": {
        "id": "nIWk74miWD3Q"
      },
      "source": [
        "Data normalization"
      ]
    },
    {
      "cell_type": "code",
      "execution_count": null,
      "metadata": {
        "colab": {
          "base_uri": "https://localhost:8080/"
        },
        "id": "6TGonohfaGb4",
        "outputId": "d8d50b24-05d1-4bff-8ab3-029eae70a087"
      },
      "outputs": [
        {
          "output_type": "execute_result",
          "data": {
            "text/plain": [
              "0.0"
            ]
          },
          "metadata": {},
          "execution_count": 3
        }
      ],
      "source": [
        "# Min of X for example 0;\n",
        "min(X[0,:])"
      ]
    },
    {
      "cell_type": "code",
      "execution_count": null,
      "metadata": {
        "colab": {
          "base_uri": "https://localhost:8080/"
        },
        "id": "V6yasIrqcKmB",
        "outputId": "90f9f1ab-bf57-4b63-fc85-3123d45b3dfa"
      },
      "outputs": [
        {
          "output_type": "execute_result",
          "data": {
            "text/plain": [
              "(784,)"
            ]
          },
          "metadata": {},
          "execution_count": 4
        }
      ],
      "source": [
        "# norm example\n",
        "(X[0,:] - min(X[0,:]) / (max(X[0,:]) - min(X[0,:]))).shape"
      ]
    },
    {
      "cell_type": "code",
      "execution_count": null,
      "metadata": {
        "colab": {
          "base_uri": "https://localhost:8080/"
        },
        "id": "oVTy--i4WSnO",
        "outputId": "c85479bb-e9c6-45f8-a456-a332b4f8d68c"
      },
      "outputs": [
        {
          "output_type": "stream",
          "name": "stdout",
          "text": [
            "(70000, 784) (70000,)\n"
          ]
        }
      ],
      "source": [
        "## TODO: Normalize the dataset according to Min-Max normalization.\n",
        "def min_max_norm(X):\n",
        "  return np.array([(X[i,:]-min(X[i,:]))/(max(X[i,:])- min(X[i,:])) for i in range (X.shape[0])])\n",
        "\n",
        "X = min_max_norm(X)\n",
        "print(X.shape, y.shape)"
      ]
    },
    {
      "cell_type": "markdown",
      "metadata": {
        "id": "IGB05L0uW17i"
      },
      "source": [
        "Split the data into Train set and Test set"
      ]
    },
    {
      "cell_type": "code",
      "execution_count": null,
      "metadata": {
        "colab": {
          "base_uri": "https://localhost:8080/"
        },
        "id": "uVDTzcewW-YC",
        "outputId": "16e3a0bd-f207-48d7-8147-1078bc2233d5"
      },
      "outputs": [
        {
          "output_type": "stream",
          "name": "stdout",
          "text": [
            "(56000, 784) (13999, 784) (56000,) (13999,)\n"
          ]
        }
      ],
      "source": [
        "## TODO: Split the data into Train set and Test set (The use of libraries other than Numpy is strictly prohibited)\n",
        "size = X.shape[0]\n",
        "split= int(0.8*size)\n",
        "\n",
        "X_train, X_test = X[0:split,:], X[split+1:size,:]\n",
        "y_train, y_test = y[0:split], y[split+1:size]\n",
        "\n",
        "print(X_train.shape, X_test.shape, y_train.shape, y_test.shape)"
      ]
    },
    {
      "cell_type": "code",
      "source": [
        "## TODO: Split the data into Train set and Test set (The use of libraries other than Numpy is strictly prohibited)\n",
        "def split_data(X, y, test_size=0.2):\n",
        "    # Generate random indices for the data\n",
        "    indices = np.random.permutation(len(X))\n",
        "    # Split the indices into two sets, one for training and one for testing\n",
        "    split_idx = int(len(X) * (1 - test_size))\n",
        "    train_indices = indices[:split_idx]\n",
        "    test_indices = indices[split_idx:]\n",
        "    # Use the indices to split the data into two sets\n",
        "    X_train, y_train = X[train_indices], y[train_indices]\n",
        "    X_test, y_test = X[test_indices], y[test_indices]\n",
        "    return X_train, y_train, X_test, y_test\n",
        "\n",
        "\n",
        "X_train, y_train, X_test, y_test = split_data(X, y)"
      ],
      "metadata": {
        "id": "-jk700qgxc4V"
      },
      "execution_count": null,
      "outputs": []
    },
    {
      "cell_type": "markdown",
      "metadata": {
        "id": "hxQx41j6YXDa"
      },
      "source": [
        "Activation function"
      ]
    },
    {
      "cell_type": "code",
      "execution_count": null,
      "metadata": {
        "id": "7IHRNTT5Ydcn"
      },
      "outputs": [],
      "source": [
        "## Here you should Implement the sigmoid activation function and its derivative\n",
        "def sigmoid(z):\n",
        "  return 1 / (1+np.exp(-z))\n",
        "\n",
        "def sigmoid_derivative(z):\n",
        "  return sigmoid(z)*(1-sigmoid(z))"
      ]
    },
    {
      "cell_type": "markdown",
      "metadata": {
        "id": "bJkyk_WQY1WO"
      },
      "source": [
        "Softmax function"
      ]
    },
    {
      "cell_type": "code",
      "execution_count": null,
      "metadata": {
        "id": "K471HopTY6Mu"
      },
      "outputs": [],
      "source": [
        "## Here you should Implement the softmax function\n",
        "def softmax(z):\n",
        "  return np.exp(z)/sum(np.exp(z))\n",
        "\n",
        "def softmax_derivative(z):\n",
        "  grad =np.zeros((len(z), len(z)))\n",
        "  for i in range(len(z)):\n",
        "    for j in range(len(z)):\n",
        "      if i == j:\n",
        "        grad[i,j] = softmax(z)[i] * (1-softmax(z))[i]\n",
        "      else: \n",
        "         grad[i,j] = -softmax(z)[i] *softmax(z)[j]\n",
        "  return np.array(grad)"
      ]
    },
    {
      "cell_type": "markdown",
      "metadata": {
        "id": "RAlKnQ1-ZJR1"
      },
      "source": [
        "Loss function"
      ]
    },
    {
      "cell_type": "code",
      "execution_count": null,
      "metadata": {
        "id": "of5mjXukZWUy"
      },
      "outputs": [],
      "source": [
        "## Negative Log Likelihood loss function for the multiclass\n",
        "\n",
        "def nll_loss(y_pred, y):\n",
        "  loss = -np.sum(y * np.log(y_pred))\n",
        "  return loss / float(y_pred.shape[0])"
      ]
    },
    {
      "cell_type": "markdown",
      "metadata": {
        "id": "j6BD4CUIXGNd"
      },
      "source": [
        "Hyper-Parameters"
      ]
    },
    {
      "cell_type": "code",
      "execution_count": null,
      "metadata": {
        "id": "8faNWU3Ybx-w"
      },
      "outputs": [],
      "source": [
        "## Here you should define the main hyper-parameters we discussed about at class.\n",
        "\n",
        "learning_rate=0.01\n",
        "num_of_epochs = 100"
      ]
    },
    {
      "cell_type": "markdown",
      "metadata": {
        "id": "PwKZjQ69dapE"
      },
      "source": [
        "Parameters initialization "
      ]
    },
    {
      "cell_type": "code",
      "execution_count": null,
      "metadata": {
        "id": "buCiul3fdiPV"
      },
      "outputs": [],
      "source": [
        "## Here you should initialize the parameters. \n",
        "## Note that the MNIST dataset has 10 classes.\n",
        "num_classes = 10\n",
        "size_input = X.shape[1]\n",
        "hidden_layer=25\n",
        "W1 = np.random.randn(size_input,hidden_layer)\n",
        "b1 = np.random.randn(hidden_layer)\n",
        "W2 = np.random.randn(hidden_layer,num_classes)\n",
        "b2 = np.random.randn(num_classes)"
      ]
    },
    {
      "cell_type": "markdown",
      "metadata": {
        "id": "DRhXUPOydoEu"
      },
      "source": [
        "### **2. Training**\n"
      ]
    },
    {
      "cell_type": "code",
      "execution_count": null,
      "metadata": {
        "id": "atqyODvneEG_"
      },
      "outputs": [],
      "source": [
        "def train(X, y, num_of_epochs):\n",
        "\n",
        "  global W1\n",
        "  global b1\n",
        "  global W2\n",
        "  global b2\n",
        "  train_size = len(X)\n",
        "\n",
        "  for epoch in range(num_of_epochs):\n",
        "    avg_epoch_loss = 0\n",
        "    for i in range(train_size):\n",
        "      # Forward propagation\n",
        "      z1 = W1.T @ X[i,:] + b1   #z1=w1X+b\n",
        "      h1 = sigmoid(z1)          #h1=sigmaoid(z1)\n",
        "      Z2 = W2.T @ h1 + b2       #z2=w2h1+b2\n",
        "      y_hat = softmax(Z2)       #y_hat=softmax(z2)\n",
        "\n",
        "      # convert y_true to vector with 1 in the answer index.\n",
        "      y_true = np.zeros(len(y_hat))\n",
        "      y_true[int(y[i])]=1\n",
        "      \n",
        "      # Compute loss\n",
        "      loss =  nll_loss(y_hat, y_true)\n",
        "      avg_epoch_loss = avg_epoch_loss + loss\n",
        "\n",
        "      # Back propagation - compute the gradients of each parameter\n",
        "      dZ2 = (y_hat - y_true)\n",
        "      #dZ2 = dy_hat @ softmax_derivative(Z2)\n",
        "      dW2 =  np.dot(h1[:,None],dZ2[None,:])     #dL/dw2 = dL/dz2 * dz2/dw2\n",
        "      db2 = dZ2                                 #dL/db2 = dL/dz2 * dz2/db2\n",
        "\n",
        "      dh1 = W2 @ dZ2                            #dL/dh1 = dL/dz2 * dz2/dh1\n",
        "      dz1 = dh1 * sigmoid_derivative(z1)        #dL/dz1 = dL/dh1 * dh1/dz1\n",
        "      dW1 = np.dot(X[i,:][:,None],dz1[None,:])  #dL/dw1 = dL/dz1 * dz1/dw1\n",
        "      db1 = dz1                                 #dL/db1 = dL/dz1 * dz1/db1\n",
        "\n",
        "      # Update weights\n",
        "      W2 = W2 - learning_rate * dW2\n",
        "      b2 = b2 - learning_rate * db2\n",
        "      W1 = W1 - learning_rate * dW1\n",
        "      b1 = b1 - learning_rate * db1\n",
        "\n",
        "    avg_epoch_loss = (avg_epoch_loss/train_size) \n",
        "\n",
        "    print(\"Epoch:\", epoch,\" Loss:\", avg_epoch_loss)\n",
        "  "
      ]
    },
    {
      "cell_type": "markdown",
      "metadata": {
        "id": "trwxFsfdhkAw"
      },
      "source": [
        "### **3. Test**"
      ]
    },
    {
      "cell_type": "markdown",
      "metadata": {
        "id": "8Soln0ZviJJv"
      },
      "source": [
        "Here you should test your model"
      ]
    },
    {
      "cell_type": "code",
      "execution_count": null,
      "metadata": {
        "id": "uP1PX2xnhnoc"
      },
      "outputs": [],
      "source": [
        "## Here you should test your model and return the accuracy on the test set\n",
        "\n",
        "def test(X, y):\n",
        "  true_pred_counter = 0\n",
        "  for i in range(len(X)):\n",
        "    z1 = W1.T @ X[i,:] + b1\n",
        "    h1 = sigmoid(z1)\n",
        "    Z2 = W2.T @ h1 + b2\n",
        "    y_hat = softmax(Z2)\n",
        "    y_pred = np.argmax(y_hat)\n",
        "    if (y_pred == int(y[i])):\n",
        "      true_pred_counter += 1\n",
        "  accuracy = true_pred_counter/ len(X)\n",
        "  return accuracy\n",
        "\n"
      ]
    },
    {
      "cell_type": "markdown",
      "metadata": {
        "id": "L52uxH7RjJ25"
      },
      "source": [
        "### **4. Main**"
      ]
    },
    {
      "cell_type": "code",
      "execution_count": null,
      "metadata": {
        "colab": {
          "base_uri": "https://localhost:8080/"
        },
        "id": "jA5UbzSxjjcJ",
        "outputId": "8b81c35e-1a42-4b2c-dfc7-78010b77d705"
      },
      "outputs": [
        {
          "output_type": "stream",
          "name": "stdout",
          "text": [
            "acuracy before learning 0.107\n",
            "Epoch: 0  Loss: 0.07627826370674402\n",
            "Epoch: 1  Loss: 0.04268855066345414\n",
            "Epoch: 2  Loss: 0.03546286731117028\n",
            "Epoch: 3  Loss: 0.03150471049055818\n",
            "Epoch: 4  Loss: 0.028848569982526162\n",
            "Epoch: 5  Loss: 0.026873411828963103\n",
            "Epoch: 6  Loss: 0.02534846608140144\n",
            "Epoch: 7  Loss: 0.024118174559877758\n",
            "Epoch: 8  Loss: 0.023094715141954648\n",
            "Epoch: 9  Loss: 0.02221942329103419\n",
            "Epoch: 10  Loss: 0.02144348254519497\n",
            "Epoch: 11  Loss: 0.020739911617565675\n",
            "Epoch: 12  Loss: 0.020093319380398676\n",
            "Epoch: 13  Loss: 0.019505555885007637\n",
            "Epoch: 14  Loss: 0.01897411091922832\n",
            "Epoch: 15  Loss: 0.018487295454084094\n",
            "Epoch: 16  Loss: 0.018037404638102276\n",
            "Epoch: 17  Loss: 0.017618894427651795\n",
            "Epoch: 18  Loss: 0.017227864404411625\n",
            "Epoch: 19  Loss: 0.01686256909962049\n",
            "Epoch: 20  Loss: 0.016518187470078438\n",
            "Epoch: 21  Loss: 0.016191983084612848\n",
            "Epoch: 22  Loss: 0.015883545796719706\n",
            "Epoch: 23  Loss: 0.015589081325539919\n",
            "Epoch: 24  Loss: 0.01530444594405904\n",
            "Epoch: 25  Loss: 0.015026907198130282\n",
            "Epoch: 26  Loss: 0.01476112152703601\n",
            "Epoch: 27  Loss: 0.014509964904900158\n",
            "Epoch: 28  Loss: 0.014271327304976949\n",
            "Epoch: 29  Loss: 0.014042518696386277\n",
            "Epoch: 30  Loss: 0.013822321489689829\n",
            "Epoch: 31  Loss: 0.013609961409308324\n",
            "Epoch: 32  Loss: 0.01340457165659854\n",
            "Epoch: 33  Loss: 0.013205648883307927\n",
            "Epoch: 34  Loss: 0.013011975077591467\n",
            "Epoch: 35  Loss: 0.012821192095785312\n",
            "Epoch: 36  Loss: 0.012631660326822173\n",
            "Epoch: 37  Loss: 0.012445905070526142\n",
            "Epoch: 38  Loss: 0.01226704541349752\n",
            "Epoch: 39  Loss: 0.012094652651386527\n",
            "Epoch: 40  Loss: 0.011928182816147615\n",
            "Epoch: 41  Loss: 0.01176730356018398\n",
            "Epoch: 42  Loss: 0.011611513132004524\n",
            "Epoch: 43  Loss: 0.0114607839460861\n",
            "Epoch: 44  Loss: 0.011315293807548428\n",
            "Epoch: 45  Loss: 0.01117467398769283\n",
            "Epoch: 46  Loss: 0.011038335653238708\n",
            "Epoch: 47  Loss: 0.010905937422498171\n",
            "Epoch: 48  Loss: 0.010777170385918692\n",
            "Epoch: 49  Loss: 0.010651659085709676\n",
            "Epoch: 50  Loss: 0.010529288736296213\n",
            "Epoch: 51  Loss: 0.010410219328760389\n",
            "Epoch: 52  Loss: 0.0102943648322684\n",
            "Epoch: 53  Loss: 0.010181436176317149\n",
            "Epoch: 54  Loss: 0.010071301572543599\n",
            "Epoch: 55  Loss: 0.009963980054152817\n",
            "Epoch: 56  Loss: 0.009859512879777427\n",
            "Epoch: 57  Loss: 0.009757739618525272\n",
            "Epoch: 58  Loss: 0.009658345870313402\n",
            "Epoch: 59  Loss: 0.009561301856833427\n",
            "Epoch: 60  Loss: 0.009466874937498334\n",
            "Epoch: 61  Loss: 0.009375014761463359\n",
            "Epoch: 62  Loss: 0.009285508888385108\n",
            "Epoch: 63  Loss: 0.009198134697228239\n",
            "Epoch: 64  Loss: 0.009112620515025607\n",
            "Epoch: 65  Loss: 0.009028666050264087\n",
            "Epoch: 66  Loss: 0.008945986883313271\n",
            "Epoch: 67  Loss: 0.008864376814704504\n",
            "Epoch: 68  Loss: 0.008783746024435716\n",
            "Epoch: 69  Loss: 0.00870405327431524\n",
            "Epoch: 70  Loss: 0.00862523834556336\n",
            "Epoch: 71  Loss: 0.008547318091282069\n",
            "Epoch: 72  Loss: 0.008470448139288536\n",
            "Epoch: 73  Loss: 0.00839481442353852\n",
            "Epoch: 74  Loss: 0.00832070695122736\n",
            "Epoch: 75  Loss: 0.008248316762148388\n",
            "Epoch: 76  Loss: 0.008177504162663283\n",
            "Epoch: 77  Loss: 0.008108050360074451\n",
            "Epoch: 78  Loss: 0.008039764266504747\n",
            "Epoch: 79  Loss: 0.007972477436879477\n",
            "Epoch: 80  Loss: 0.007906054810764554\n",
            "Epoch: 81  Loss: 0.007840420080138251\n",
            "Epoch: 82  Loss: 0.0077755685709000304\n",
            "Epoch: 83  Loss: 0.007711501891435169\n",
            "Epoch: 84  Loss: 0.007648126105004925\n",
            "Epoch: 85  Loss: 0.007585361651765048\n",
            "Epoch: 86  Loss: 0.007523412336160739\n",
            "Epoch: 87  Loss: 0.007462510733107606\n",
            "Epoch: 88  Loss: 0.007402618290989066\n",
            "Epoch: 89  Loss: 0.007343539097030431\n",
            "Epoch: 90  Loss: 0.007285125246524194\n",
            "Epoch: 91  Loss: 0.0072276125745917505\n",
            "Epoch: 92  Loss: 0.007171412381499177\n",
            "Epoch: 93  Loss: 0.007116627048227726\n",
            "Epoch: 94  Loss: 0.007063213909483405\n",
            "Epoch: 95  Loss: 0.007011131559038834\n",
            "Epoch: 96  Loss: 0.00696030215094523\n",
            "Epoch: 97  Loss: 0.006910602265899872\n",
            "Epoch: 98  Loss: 0.006861897026776972\n",
            "Epoch: 99  Loss: 0.006814056218241629\n",
            "acuracy after learning 0.9382857142857143\n"
          ]
        }
      ],
      "source": [
        "accuracy = test(X_test, y_test)\n",
        "print(\"acuracy before learning\", accuracy)\n",
        "\n",
        "train(X_train, y_train, num_of_epochs)\n",
        "accuracy = test(X_test, y_test)\n",
        "\n",
        "print(\"acuracy after learning\", accuracy)"
      ]
    },
    {
      "cell_type": "markdown",
      "metadata": {
        "id": "bCzCYSpES4T-"
      },
      "source": [
        "## Part 2 - Neural Network in PyTorch"
      ]
    },
    {
      "cell_type": "markdown",
      "metadata": {
        "id": "SbMi2kxOzui_"
      },
      "source": [
        "____________"
      ]
    },
    {
      "cell_type": "markdown",
      "metadata": {
        "id": "RakOdZ9Mm5Q8"
      },
      "source": [
        "In this part we learn to:\n",
        "1. Load and preprocess datasets using pytorch.\n",
        "2. Implement and train a neural network (multi-layer perceptron) for handwriting recognition (MNIST dataset), using Pytorch.\n",
        "3. Implement and train a convolutional neural network (CNN) on MNIST."
      ]
    },
    {
      "cell_type": "markdown",
      "metadata": {
        "id": "iYfdZr_Qzxav"
      },
      "source": [
        "### **1. Setup**\n",
        "Before running code on Colab:\n",
        "- Go to \"Runtime\" -> \"Change runtime type\", and make sure to choose \"GPU\" for Hardware accelerator.\n",
        "- Check your Python version at the command line by running \"!python --version\". It should be Python 3.6 by default.\n",
        "- Upload all files of this assignment (code and datasets) to your Drive (e.g \"machine_learning_intro/assignments/assignment5\") and mount that data to the machine. See the next cell below.  \n",
        "In principle, it is also possible to upload files to the local disk of the colab machines. However, such files will be deleted when the machine is restarted (not a frequent event)."
      ]
    },
    {
      "cell_type": "code",
      "execution_count": null,
      "metadata": {
        "colab": {
          "base_uri": "https://localhost:8080/"
        },
        "id": "A0kqKYijz6sX",
        "outputId": "66ae9af0-c6a1-4044-e83d-ba4c67be52e2"
      },
      "outputs": [
        {
          "output_type": "stream",
          "name": "stdout",
          "text": [
            "Python 3.8.16\n"
          ]
        }
      ],
      "source": [
        "# check python version\n",
        "!python --version"
      ]
    },
    {
      "cell_type": "code",
      "execution_count": null,
      "metadata": {
        "colab": {
          "base_uri": "https://localhost:8080/"
        },
        "id": "nCba1-RfEsE4",
        "outputId": "63b8dd43-0e6b-4188-f0a0-90af890d9147"
      },
      "outputs": [
        {
          "output_type": "stream",
          "name": "stdout",
          "text": [
            "Mounted at /content/drive\n",
            "/content/drive/My Drive\n",
            "/content\n"
          ]
        }
      ],
      "source": [
        "from google.colab import drive\n",
        "\n",
        "drive.mount('/content/drive', force_remount=True)\n",
        "\n",
        "# Enter the foldername in your Drive where you have saved the code and datasets.\n",
        "# Recommended path: 'machine_learning_intro/assignments/assignment5/'\n",
        "FOLDERNAME = 'machine_learning_intro/assignments/'\n",
        "ASSIGNMENTNAME = 'assignment5'\n",
        "\n",
        "%cd drive/My\\ Drive\n",
        "%cp -r $FOLDERNAME/$ASSIGNMENTNAME ../../\n",
        "%cd ../../"
      ]
    },
    {
      "cell_type": "markdown",
      "metadata": {
        "id": "Bo1qJd7Jz6Er"
      },
      "source": [
        "### **2. Dataset**"
      ]
    },
    {
      "cell_type": "markdown",
      "metadata": {
        "id": "VOfgqbTfz-ww"
      },
      "source": [
        "In this exercise, we are going to build a neural network that identify handwritten digits. We will use the MNIST dataset which consists of greyscale handwritten digits. Each image is 28x28 pixels and there are 10 different digits. The network will take these images and predict the digit in them.\n",
        "\n",
        "\n",
        "\n"
      ]
    },
    {
      "cell_type": "markdown",
      "metadata": {
        "id": "cxLE8XTj3rrC"
      },
      "source": [
        "Let's visualize the data before working with it.  \n",
        "1. We can use the \"torchvision\" package to download the trainset. Set ```transform``` as to be the transform function below (It normalizes each image) and ```train=True```.\n",
        "2. We use torch.utils.data.DataLoader to load the data. Set ```batch_size=64```."
      ]
    },
    {
      "cell_type": "code",
      "execution_count": null,
      "metadata": {
        "id": "Iea5qgHk54eh"
      },
      "outputs": [],
      "source": [
        "# load packages\n",
        "import torch\n",
        "import numpy as np\n",
        "from torchvision import datasets, transforms\n",
        "import matplotlib.pyplot as plt"
      ]
    },
    {
      "cell_type": "code",
      "execution_count": null,
      "metadata": {
        "colab": {
          "base_uri": "https://localhost:8080/",
          "height": 443,
          "referenced_widgets": [
            "3a2d3f6daf7340ec836951e36b11c450",
            "d65c94c8057e45bebd79434e04492610",
            "0b00886cae3b435ca73df2d52c8c8441",
            "20d60e3d90ac4f329b7851f3d953a095",
            "c5bf457057bf414ca45d3527320f1350",
            "51591bc47b844d29b4fba7df1e12a979",
            "30d9a63b0e154b688b3410b4076a0cf2",
            "c6808cd0b8054ac3b17435d72f3dd4a2",
            "2d9258ac82ab4c75a430443e729dd64c",
            "cebf00c482e04fe7aa45e76582c0fe47",
            "81c92e26f5ce42209d961d7a52f1a189",
            "c4fcb4679aea4048a0dcbad71f781758",
            "ae78f26df55a4e57b37b2e73a693a9f2",
            "2f23ee52092645d298e56a9e2a2c3aed",
            "7e861c3814984addaaf921416a13a970",
            "23cdf3f0acd94f47ac35604c2015aae8",
            "bcd735744a8b4561b47617678c6391d4",
            "a772e82d150d42c69dacb8f646706fbf",
            "46c111e784514688a8f6c844ece163a1",
            "36d296797c814ff38e1388e88b7a4ca9",
            "987aac850ae74234b8eab0f531b258ea",
            "071d35edfb894e97bba7357dd46cbf9f",
            "d62d9472ccf7467fb4458e3b54e3d43d",
            "8a0d71009402418996f01cece7c7b056",
            "afb8b0dc3ea5446db3dbed346813f90d",
            "b6823a5378994bfca95f2bd853507c8a",
            "1e37ec56dc4a4977b3c6b7022185483e",
            "44bbcb19fb074a8c809660d9e19fd401",
            "83933666cccd4fe8bcbfda0a4e51a7e2",
            "c77ab5c2806a4889b1e768aae528ff8e",
            "2833e5b51f024b668c10dacf15c3d693",
            "29a4e078d3564601992efea9e0fb9b1a",
            "2bd31e4121a9437ebf6a1432a684ca92",
            "2312b3318c5644b682b901901b213179",
            "19fd0c82793c40a5ab0ba40446a9309a",
            "50dd3acbb6534a6c99d1e6a695ad0266",
            "d74218af5c134165b3f5639472b7d46a",
            "4568d348d2ac49fda6b0924c86f46cd5",
            "993a0fdaba954c04b871beacd423cf98",
            "7de4e062f7c948d6b53dee6f8e21be19",
            "e32f307808bc4fbb824f1ad6d5316125",
            "59d5911c8246450b91627fdc2147128e",
            "15c729c32869441a973ce73559e1bbd6",
            "2a1cbb399ec945b491b4ec16f6c39580"
          ]
        },
        "id": "I8xR9rXKz-F_",
        "outputId": "d7615265-0b87-43ed-ec94-f6a8ef8ba36f"
      },
      "outputs": [
        {
          "output_type": "stream",
          "name": "stdout",
          "text": [
            "Downloading http://yann.lecun.com/exdb/mnist/train-images-idx3-ubyte.gz\n",
            "Downloading http://yann.lecun.com/exdb/mnist/train-images-idx3-ubyte.gz to ./MNIST_data/MNIST/raw/train-images-idx3-ubyte.gz\n"
          ]
        },
        {
          "output_type": "display_data",
          "data": {
            "text/plain": [
              "  0%|          | 0/9912422 [00:00<?, ?it/s]"
            ],
            "application/vnd.jupyter.widget-view+json": {
              "version_major": 2,
              "version_minor": 0,
              "model_id": "3a2d3f6daf7340ec836951e36b11c450"
            }
          },
          "metadata": {}
        },
        {
          "output_type": "stream",
          "name": "stdout",
          "text": [
            "Extracting ./MNIST_data/MNIST/raw/train-images-idx3-ubyte.gz to ./MNIST_data/MNIST/raw\n",
            "\n",
            "Downloading http://yann.lecun.com/exdb/mnist/train-labels-idx1-ubyte.gz\n",
            "Downloading http://yann.lecun.com/exdb/mnist/train-labels-idx1-ubyte.gz to ./MNIST_data/MNIST/raw/train-labels-idx1-ubyte.gz\n"
          ]
        },
        {
          "output_type": "display_data",
          "data": {
            "text/plain": [
              "  0%|          | 0/28881 [00:00<?, ?it/s]"
            ],
            "application/vnd.jupyter.widget-view+json": {
              "version_major": 2,
              "version_minor": 0,
              "model_id": "c4fcb4679aea4048a0dcbad71f781758"
            }
          },
          "metadata": {}
        },
        {
          "output_type": "stream",
          "name": "stdout",
          "text": [
            "Extracting ./MNIST_data/MNIST/raw/train-labels-idx1-ubyte.gz to ./MNIST_data/MNIST/raw\n",
            "\n",
            "Downloading http://yann.lecun.com/exdb/mnist/t10k-images-idx3-ubyte.gz\n",
            "Downloading http://yann.lecun.com/exdb/mnist/t10k-images-idx3-ubyte.gz to ./MNIST_data/MNIST/raw/t10k-images-idx3-ubyte.gz\n"
          ]
        },
        {
          "output_type": "display_data",
          "data": {
            "text/plain": [
              "  0%|          | 0/1648877 [00:00<?, ?it/s]"
            ],
            "application/vnd.jupyter.widget-view+json": {
              "version_major": 2,
              "version_minor": 0,
              "model_id": "d62d9472ccf7467fb4458e3b54e3d43d"
            }
          },
          "metadata": {}
        },
        {
          "output_type": "stream",
          "name": "stdout",
          "text": [
            "Extracting ./MNIST_data/MNIST/raw/t10k-images-idx3-ubyte.gz to ./MNIST_data/MNIST/raw\n",
            "\n",
            "Downloading http://yann.lecun.com/exdb/mnist/t10k-labels-idx1-ubyte.gz\n",
            "Downloading http://yann.lecun.com/exdb/mnist/t10k-labels-idx1-ubyte.gz to ./MNIST_data/MNIST/raw/t10k-labels-idx1-ubyte.gz\n"
          ]
        },
        {
          "output_type": "display_data",
          "data": {
            "text/plain": [
              "  0%|          | 0/4542 [00:00<?, ?it/s]"
            ],
            "application/vnd.jupyter.widget-view+json": {
              "version_major": 2,
              "version_minor": 0,
              "model_id": "2312b3318c5644b682b901901b213179"
            }
          },
          "metadata": {}
        },
        {
          "output_type": "stream",
          "name": "stdout",
          "text": [
            "Extracting ./MNIST_data/MNIST/raw/t10k-labels-idx1-ubyte.gz to ./MNIST_data/MNIST/raw\n",
            "\n"
          ]
        }
      ],
      "source": [
        "data_path = \"./MNIST_data\"\n",
        "\n",
        "# Define a transform to normalize the data\n",
        "transform = transforms.Compose([transforms.ToTensor(),\n",
        "                              transforms.Normalize((0.5,), (0.5,)),\n",
        "                              ])\n",
        "\n",
        "# Download and load the data\n",
        "mnist_data = datasets.MNIST(data_path, download=True, train=True, transform=transform)\n",
        "mnist_dataloader = torch.utils.data.DataLoader(mnist_data, batch_size=64, shuffle=True)"
      ]
    },
    {
      "cell_type": "markdown",
      "metadata": {
        "id": "SAccTtHD5E_K"
      },
      "source": [
        "Using the ```mnist_data``` (dataset) and ```mnist dataloader``` (batch dataloader):\n",
        "1. Print the number of samples in the whole dataset.\n",
        "2. Print the number of samples in a single batch.\n",
        "3. Print the shape of images in the data. \n",
        "4. Print the number of labels in the dataset (targets).\n",
        "5. Plot 3 random images using matplotlib (```plt.imshow```) and print their labels."
      ]
    },
    {
      "cell_type": "code",
      "execution_count": null,
      "metadata": {
        "colab": {
          "base_uri": "https://localhost:8080/"
        },
        "id": "bJdsQMaG8_kz",
        "outputId": "cb425ac3-8ce0-4273-83bc-19bac648ed28"
      },
      "outputs": [
        {
          "output_type": "stream",
          "name": "stdout",
          "text": [
            "60000\n",
            "64\n",
            "torch.Size([1, 28, 28])\n",
            "10\n"
          ]
        }
      ],
      "source": [
        "# get single batch\n",
        "dataiter = iter(mnist_dataloader)\n",
        "batch_images, batch_labels = next(dataiter)\n",
        "\n",
        "# 1. Print the number of samples in the whole dataset.\n",
        "print(len(mnist_data))\n",
        "\n",
        "\n",
        "# 2. Print the number of samples in a single batch.\n",
        "print(len(batch_images))\n",
        "\n",
        "# 3. Print the shape of images in the data (image dimensions).\n",
        "print(batch_images[0].shape)\n",
        "\n",
        "# 4. Print the number of labels in the whole dataset (using the targets in the dataloader).\n",
        "print(len(torch.unique(mnist_dataloader.dataset.targets)))"
      ]
    },
    {
      "cell_type": "code",
      "execution_count": null,
      "metadata": {
        "id": "HqAI9DCx52xQ",
        "colab": {
          "base_uri": "https://localhost:8080/",
          "height": 166
        },
        "outputId": "67ed6681-8b59-4d44-8f42-47fab8d8efed"
      },
      "outputs": [
        {
          "output_type": "stream",
          "name": "stdout",
          "text": [
            "Labels: tensor([9, 2, 3])\n"
          ]
        },
        {
          "output_type": "display_data",
          "data": {
            "text/plain": [
              "<Figure size 432x288 with 3 Axes>"
            ],
            "image/png": "[encoded data removed]"
          },
          "metadata": {
            "needs_background": "light"
          }
        }
      ],
      "source": [
        "# 5. plot three images and print their labels\n",
        "idx = np.random.choice(range(64),3) # three rundom indices\n",
        "plt.subplot(1,3,1)\n",
        "plt.imshow(batch_images[idx[0]].numpy().squeeze(), cmap='Greys_r')\n",
        "plt.subplot(1,3,2)\n",
        "plt.imshow(batch_images[idx[1]].numpy().squeeze(), cmap='Greys_r')\n",
        "plt.subplot(1,3,3)\n",
        "plt.imshow(batch_images[idx[2]].numpy().squeeze(), cmap='Greys_r')\n",
        "print(\"Labels:\",batch_labels[idx])"
      ]
    },
    {
      "cell_type": "markdown",
      "metadata": {
        "id": "t6eva55l2pHP"
      },
      "source": [
        "### **3. Neural Network - Architecture**"
      ]
    },
    {
      "cell_type": "markdown",
      "metadata": {
        "id": "ursz6zhILt_t"
      },
      "source": [
        "In the next section, we are going to implement a neural network with pytorch that gets mnist images and recognize the digit in them.  \n",
        "\n",
        "Network Architecture (see image below): **784 input units**, a hidden layer with **128 units** and a **ReLU activation**, then a hidden layer with **64 units** and a **ReLU activation**, and finally an **output layer** with a **log-softmax activation**.\n",
        "\n",
        "Note: Since simple neural networks get vectors as inputs, and not images (unlike CNNs), we should flatten the data. Each sample with shape (28,28) becomes (784,). That is why the input layer has 784 units.  \n"
      ]
    },
    {
      "cell_type": "markdown",
      "metadata": {
        "id": "bBSlU9ltMuqu"
      },
      "source": [
        "![image.png](data:image/png;base64,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)"
      ]
    },
    {
      "cell_type": "markdown",
      "metadata": {
        "id": "9cXVKnH95BF9"
      },
      "source": [
        "Complete the code below: The constructor (```__init___```) should contain defenitions of layers like ```Linear``` or ```Relu```. The ```forward``` function should contain the logic between the layers declared in the constructor.  "
      ]
    },
    {
      "cell_type": "markdown",
      "metadata": {
        "id": "rCdvU1U2h8xB"
      },
      "source": [
        "For this section, as well as the next section, you can follow online tutorials (like **[this tutorial](https://pytorch.org/tutorials/beginner/basics/quickstart_tutorial.html)** or **[this one](https://www.marktechpost.com/2019/11/09/create-a-neural-network-with-pytorch/)**) to understand how to implement neural networks with pytorch."
      ]
    },
    {
      "cell_type": "code",
      "execution_count": null,
      "metadata": {
        "id": "JR2M6jXEMhGE"
      },
      "outputs": [],
      "source": [
        "from torch import nn, optim\n",
        "import torch.nn.functional as F"
      ]
    },
    {
      "cell_type": "code",
      "execution_count": null,
      "metadata": {
        "id": "MXF0qtb6MLoo"
      },
      "outputs": [],
      "source": [
        "class NeuralNetwork(nn.Module):\n",
        "    def __init__(self):\n",
        "        '''\n",
        "        Declare layers for the model\n",
        "        '''\n",
        "        super().__init__()\n",
        "        self.flatten = nn.Flatten()\n",
        "        self.linear_relu_stack = nn.Sequential(\n",
        "            nn.Linear(784,128),\n",
        "            nn.ReLU(),\n",
        "            nn.Linear(128,64),\n",
        "            nn.ReLU(),\n",
        "            nn.Linear(64, 10)\n",
        "        )\n",
        "        self.softmax = nn.LogSoftmax(dim=1)\n",
        "\n",
        "    def forward(self, x):\n",
        "        ''' Forward pass through the network, returns log_softmax values '''\n",
        "        x = self.flatten(x)\n",
        "        logits = self.linear_relu_stack(x)\n",
        "        return self.softmax(logits)\n",
        "\n",
        "model = NeuralNetwork()"
      ]
    },
    {
      "cell_type": "markdown",
      "metadata": {
        "id": "lpBPgofqMyeG"
      },
      "source": [
        "Now that we have a network, let's see what happens when we pass in an image.  \n",
        "Let's choose a random image and pass it through the network. It should return a prediction - confidences for each class. The class with the highest confidence is the prediction of the model for that image.   \n",
        "We visualize the results using ```view_classify``` function below."
      ]
    },
    {
      "cell_type": "code",
      "execution_count": null,
      "metadata": {
        "id": "4XEERkg8N8-G"
      },
      "outputs": [],
      "source": [
        "def view_classify(img, ps, version=\"MNIST\"):\n",
        "    ''' Function for viewing an image and it's predicted classes.\n",
        "    image - the input image to the network\n",
        "    ps - the class confidences (network output)\n",
        "    '''\n",
        "    ps = ps.data.numpy().squeeze()\n",
        "    fig, (ax1, ax2) = plt.subplots(figsize=(6,9), ncols=2)\n",
        "    ax1.imshow(img.resize_(1, 28, 28).numpy().squeeze())\n",
        "    ax1.axis('off')\n",
        "    ax2.barh(np.arange(10), ps)\n",
        "    ax2.set_aspect(0.1)\n",
        "    ax2.set_yticks(np.arange(10))\n",
        "    if version == \"MNIST\":\n",
        "        ax2.set_yticklabels(np.arange(10))\n",
        "    ax2.set_title('Class Probability')\n",
        "    ax2.set_xlim(0, 1.1)\n",
        "\n",
        "    plt.tight_layout()"
      ]
    },
    {
      "cell_type": "code",
      "execution_count": null,
      "metadata": {
        "id": "dCEAxx-NM6l9"
      },
      "outputs": [],
      "source": [
        "def random_prediction_example(data_loader, model):\n",
        "  '''\n",
        "  The function sample an image from the data, pass it through the model (inference)\n",
        "  and show the prediction visually. It returns the predictions confidences.\n",
        "  '''\n",
        "  # take a batch and randomly pick an image\n",
        "  dataiter = iter(data_loader)\n",
        "  images, labels = next(dataiter)\n",
        "  images.resize_(64, 1, 784)\n",
        "  img = images[0]\n",
        "\n",
        "  # Forward pass through the network\n",
        "  # we use torch.no_grad() for faster inference and to avoid gradients from\n",
        "  # moving through the network.\n",
        "  with torch.no_grad():\n",
        "      ps = model(img)\n",
        "      # the network outputs log-probabilities, so take exponential for probabilities\n",
        "      ps = torch.exp(ps)\n",
        "  \n",
        "  # visualize image and prediction\n",
        "  view_classify(img.view(1, 28, 28), ps)\n",
        "  return ps"
      ]
    },
    {
      "cell_type": "code",
      "execution_count": null,
      "metadata": {
        "id": "WaQ0JHyMEv89",
        "colab": {
          "base_uri": "https://localhost:8080/",
          "height": 253
        },
        "outputId": "5ad3bcc7-7a01-44a1-83c9-fb3ef2d5cca2"
      },
      "outputs": [
        {
          "output_type": "display_data",
          "data": {
            "text/plain": [
              "<Figure size 432x648 with 2 Axes>"
            ],
            "image/png": "[encoded data removed]"
          },
          "metadata": {
            "needs_background": "light"
          }
        }
      ],
      "source": [
        "# you can run this cell multiple times for different images\n",
        "preds_conf = random_prediction_example(mnist_dataloader, model)"
      ]
    },
    {
      "cell_type": "markdown",
      "metadata": {
        "id": "u3-_Uv4vSSxj"
      },
      "source": [
        "Print the prediction of the network for that sample:"
      ]
    },
    {
      "cell_type": "code",
      "execution_count": null,
      "metadata": {
        "id": "AHwAzj7DSYsw",
        "colab": {
          "base_uri": "https://localhost:8080/"
        },
        "outputId": "d510db1c-4d37-41c7-cd46-41f484073a1d"
      },
      "outputs": [
        {
          "output_type": "stream",
          "name": "stdout",
          "text": [
            "tensor(0)\n"
          ]
        }
      ],
      "source": [
        "print(np.argmax(preds_conf))"
      ]
    },
    {
      "cell_type": "markdown",
      "metadata": {
        "id": "5bB2B1HlOmPH"
      },
      "source": [
        "### **4. Neural Network - Training**"
      ]
    },
    {
      "cell_type": "markdown",
      "metadata": {
        "id": "J_ijnOKo4t-b"
      },
      "source": [
        "We can now train and evaluate our network.\n",
        "1. Split the dataset into a training set and a validation set. Train-set size: 80% of the total data. Val-set size: the rest (20%).\n",
        "2. Create a dataloader for each set (```train_loader``` and ```val_loader```, see Section 2 for examples).\n",
        "3. Choose hyperparameters (for now we choose ```learning_rate=0.003``` and ```num_epochs=5```).\n",
        "4. Use SGD (Stochastic Gradient Descent) as the optimizer.\n",
        "5. Since it is a multi-class classification task, use \"negative log-likelihood loss\" as the loss criterion.\n",
        "6. Train your model on the train-set and evaluate it on the validation-set. \n",
        "7. During training, for each epoch, track the training loss and validation loss."
      ]
    },
    {
      "cell_type": "code",
      "execution_count": null,
      "metadata": {
        "id": "C0NB7QAxUncM"
      },
      "outputs": [],
      "source": [
        "from torch.utils import data"
      ]
    },
    {
      "cell_type": "code",
      "execution_count": null,
      "metadata": {
        "id": "1gflj2DHUMDt"
      },
      "outputs": [],
      "source": [
        "# 1. split trainset into train and validation (use torch.utils.data.random_split())\n",
        "train_size = int(0.8 * len(mnist_data))\n",
        "test_size = len(mnist_data) - train_size\n",
        "train_dataset, test_dataset = torch.utils.data.random_split(mnist_data, [train_size, test_size])\n",
        "\n",
        "# 2.1. create data loader for the trainset (batch_size=64, shuffle=True)\n",
        "train_loader = torch.utils.data.DataLoader(train_dataset, batch_size=64, shuffle=True)\n",
        "\n",
        "# 2.2. create data loader for the valset (batch_size=64, shuffle=False)\n",
        "val_loader = torch.utils.data.DataLoader(test_dataset, batch_size=64, shuffle=False)"
      ]
    },
    {
      "cell_type": "code",
      "execution_count": null,
      "metadata": {
        "id": "ynJsADhJ7oVG"
      },
      "outputs": [],
      "source": [
        "# 3. set hyper parameters\n",
        "learning_rate = 0.003\n",
        "nepochs = 5"
      ]
    },
    {
      "cell_type": "code",
      "execution_count": null,
      "metadata": {
        "id": "4hyVAUwQ73WM"
      },
      "outputs": [],
      "source": [
        "model = NeuralNetwork()\n",
        "\n",
        "# 4. create sgd optimizer. It should optimize our model parameters with\n",
        "#    learning_rate defined above\n",
        "optimizer = optim.SGD(model.parameters(), lr=learning_rate)\n",
        "\n",
        "# 5. create a criterion object. It should be negative log-likelihood loss since the task\n",
        "#    is a multi-task classification (digits classification)\n",
        "\n",
        "criterion = nn.NLLLoss()"
      ]
    },
    {
      "cell_type": "code",
      "source": [
        "optimizer.param_groups[0]['params'][0].shape"
      ],
      "metadata": {
        "colab": {
          "base_uri": "https://localhost:8080/"
        },
        "id": "MPcrfsOVvnsn",
        "outputId": "f806c103-6102-4f45-f372-82ef008a8ccf"
      },
      "execution_count": null,
      "outputs": [
        {
          "output_type": "execute_result",
          "data": {
            "text/plain": [
              "torch.Size([128, 784])"
            ]
          },
          "metadata": {},
          "execution_count": 32
        }
      ]
    },
    {
      "cell_type": "code",
      "source": [
        "# images,labels = next(iter(train_loader))\n",
        "# model.train()\n",
        "# print(model.linear_relu_stack[0].weight)\n",
        "# optimizer.zero_grad()\n",
        "# pred = model(images)\n",
        "# loss = criterion(pred, labels)\n",
        "# loss.backward()\n",
        "# optimizer.step()\n",
        "# print(model.linear_relu_stack[0].weight)"
      ],
      "metadata": {
        "id": "yGhlqZ5JuflH"
      },
      "execution_count": null,
      "outputs": []
    },
    {
      "cell_type": "code",
      "execution_count": null,
      "metadata": {
        "id": "KG4cexv827_j"
      },
      "outputs": [],
      "source": [
        "# 6.1. Train the model. (Fill empty code blocks)\n",
        "def train_model(model, optimizer, criterion,\n",
        "                nepochs, train_loader, val_loader, is_image_input = False):\n",
        "  '''\n",
        "  Train a pytorch model and evaluate it every epoch.\n",
        "  Params:\n",
        "  model - a pytorch model to train\n",
        "  optimizer - an optimizer \n",
        "  criterion - the criterion (loss function)\n",
        "  nepochs - number of training epochs\n",
        "  train_loader - dataloader for the trainset\n",
        "  val_loader - dataloader for the valset\n",
        "  is_image_input (default False) - If false, flatten 2d images into a 1d array. \n",
        "                                Should be True for Neural Networks\n",
        "                                but False for Convolutional Neural Networks.\n",
        "  '''\n",
        "  train_losses, val_losses = [], []\n",
        "  for e in range(nepochs):\n",
        "      running_loss = 0\n",
        "      running_val_loss = 0\n",
        "      for images, labels in train_loader:\n",
        "          if is_image_input:\n",
        "            # Flatten MNIST images into a 784 long vector\n",
        "            images = images.view(images.shape[0], -1)\n",
        "\n",
        "          # Training pass\n",
        "          model.train() # set model in train mode\n",
        "\n",
        "          optimizer.zero_grad()\n",
        "          pred = model(images)\n",
        "          loss = criterion(pred, labels)\n",
        "          # Backpropagation\n",
        "          loss.backward()\n",
        "          optimizer.step()\n",
        "\n",
        "          #print(loss.item())\n",
        "          running_loss += loss.item()\n",
        "      else:\n",
        "          val_loss = 0\n",
        "          # 6.2 Evalaute model on validation at the end of each epoch.\n",
        "          with torch.no_grad():\n",
        "              for images, labels in val_loader:\n",
        "                  if is_image_input:\n",
        "                    # Flatten MNIST images into a 784 long vector\n",
        "                    images = images.view(images.shape[0], -1)\n",
        "              \n",
        "                  model.eval()\n",
        "                  pred = model(images)\n",
        "                  val_loss = criterion(pred, labels)\n",
        "                  running_val_loss += val_loss.item()\n",
        "          \n",
        "          # 7. track train loss and validation loss\n",
        "          train_losses.append(running_loss/len(train_loader))\n",
        "          val_losses.append(running_val_loss/len(val_loader))\n",
        "\n",
        "          print(\"Epoch: {}/{}.. \".format(e+1, nepochs),\n",
        "                \"Training Loss: {:.3f}.. \".format(running_loss/len(train_loader)),\n",
        "                \"Validation Loss: {:.3f}.. \".format(running_val_loss/len(val_loader)))\n",
        "  return train_losses, val_losses"
      ]
    },
    {
      "cell_type": "code",
      "execution_count": null,
      "metadata": {
        "id": "4RK9laeYjKIN",
        "colab": {
          "base_uri": "https://localhost:8080/"
        },
        "outputId": "d99b095d-4818-4158-9dfe-204781b881f5"
      },
      "outputs": [
        {
          "output_type": "stream",
          "name": "stdout",
          "text": [
            "Epoch: 1/5..  Training Loss: 2.104..  Validation Loss: 1.738.. \n",
            "Epoch: 2/5..  Training Loss: 1.225..  Validation Loss: 0.844.. \n",
            "Epoch: 3/5..  Training Loss: 0.685..  Validation Loss: 0.568.. \n",
            "Epoch: 4/5..  Training Loss: 0.515..  Validation Loss: 0.465.. \n",
            "Epoch: 5/5..  Training Loss: 0.442..  Validation Loss: 0.414.. \n"
          ]
        }
      ],
      "source": [
        "  # 6.1. Train the model.\n",
        "  ## NOTE: Do not run this cell continuously without running the two cells above!\n",
        "  ##       Otherwise, you might train a model you have already trained.\n",
        "  ##       So make sure to run the two cells above (to first initialize the model\n",
        "  ##       and optimizer), every time, before running this cell!\n",
        "train_losses, val_losses = train_model(model, optimizer, criterion, nepochs,\n",
        "                                       train_loader, val_loader, is_image_input=True)"
      ]
    },
    {
      "cell_type": "markdown",
      "metadata": {
        "id": "MpIjpli1_UWV"
      },
      "source": [
        "If you implemented everything correctly, you should see the training loss drop with each epoch."
      ]
    },
    {
      "cell_type": "markdown",
      "metadata": {
        "id": "y41RnQ9069as"
      },
      "source": [
        "8. Plot train loss and validation loss as a function of epoch. **On the same graph!**"
      ]
    },
    {
      "cell_type": "code",
      "execution_count": null,
      "metadata": {
        "id": "CYO56lFAU0DD",
        "colab": {
          "base_uri": "https://localhost:8080/",
          "height": 295
        },
        "outputId": "fb41db4b-47e7-4fa6-d594-7f5cf356f2a6"
      },
      "outputs": [
        {
          "output_type": "display_data",
          "data": {
            "text/plain": [
              "<Figure size 432x288 with 1 Axes>"
            ],
            "image/png": "[encoded data removed]"
          },
          "metadata": {
            "needs_background": "light"
          }
        }
      ],
      "source": [
        "# plot train and validation loss as a function of #epochs\n",
        "fig = plt.figure(1)\n",
        "plt.plot(list(range(0, nepochs)), train_losses, label = \"Train loss\") # plot first line\n",
        "plt.plot(list(range(0, nepochs)), val_losses, label = \"Validation loss\") # plot second line\n",
        "plt.xlabel('epoch')\n",
        "plt.ylabel('loss')\n",
        "plt.title('Train loss and validation loss as a function of epoch ')\n",
        "plt.legend()\n",
        "plt.show()"
      ]
    },
    {
      "cell_type": "markdown",
      "metadata": {
        "id": "22XuxVKyRKqT"
      },
      "source": [
        "With the network trained, we can check out it's predictions:"
      ]
    },
    {
      "cell_type": "code",
      "execution_count": null,
      "metadata": {
        "id": "jrcWYGKQRMbs",
        "colab": {
          "base_uri": "https://localhost:8080/",
          "height": 288
        },
        "outputId": "1b219093-82d6-4ddf-e74b-3bb1b0a059e7"
      },
      "outputs": [
        {
          "output_type": "execute_result",
          "data": {
            "text/plain": [
              "tensor([[0.0062, 0.0027, 0.0022, 0.0033, 0.0915, 0.7753, 0.0449, 0.0010, 0.0505,\n",
              "         0.0224]])"
            ]
          },
          "metadata": {},
          "execution_count": 37
        },
        {
          "output_type": "display_data",
          "data": {
            "text/plain": [
              "<Figure size 432x648 with 2 Axes>"
            ],
            "image/png": "[encoded data removed]"
          },
          "metadata": {
            "needs_background": "light"
          }
        }
      ],
      "source": [
        "# you can run this cell multiple times for different images\n",
        "random_prediction_example(mnist_dataloader, model)"
      ]
    },
    {
      "cell_type": "markdown",
      "metadata": {
        "id": "iXFvoAglHCVt"
      },
      "source": [
        "Calculate the model's accuracy on the validation-set."
      ]
    },
    {
      "cell_type": "code",
      "execution_count": null,
      "metadata": {
        "id": "_waKDJVXHM5x"
      },
      "outputs": [],
      "source": [
        "def evaluate_model(model, val_loader, is_image_input=False):\n",
        "  '''\n",
        "  Evaluate a model on the given dataloader.\n",
        "  Params:\n",
        "  model - a pytorch model to train\n",
        "  val_loader - dataloader for the valset\n",
        "  is_image_input (default False) - If false, flatten 2d images into a 1d array.\n",
        "                                   Should be True for Neural Networks\n",
        "                                   but False for Convolutional Neural Networks.\n",
        "  '''\n",
        "  validation_accuracy = 0\n",
        "  with torch.no_grad():\n",
        "      for images, labels in val_loader:\n",
        "          if is_image_input:\n",
        "            # flatten MNIST images into a 784 long vector\n",
        "            images = images.view(images.shape[0], -1)\n",
        "          # forward pass\n",
        "          log_ps = model(images)\n",
        "          ps = torch.exp(log_ps)\n",
        "          top_p, top_class = ps.topk(1, dim=1)\n",
        "          # count correct predictions\n",
        "          equals = top_class == labels.view(*top_class.shape)\n",
        "          \n",
        "          validation_accuracy += torch.sum(equals.type(torch.FloatTensor))\n",
        "  res = validation_accuracy/len(val_loader.dataset)\n",
        "  return res"
      ]
    },
    {
      "cell_type": "code",
      "execution_count": null,
      "metadata": {
        "id": "x5bhWs0xmhks",
        "colab": {
          "base_uri": "https://localhost:8080/"
        },
        "outputId": "39466630-dcfc-4371-db35-95e298e0d7a4"
      },
      "outputs": [
        {
          "output_type": "stream",
          "name": "stdout",
          "text": [
            "Validation accuracy: 0.8848333358764648\n"
          ]
        }
      ],
      "source": [
        "print(f\"Validation accuracy: {evaluate_model(model, val_loader, is_image_input=True)}\")"
      ]
    },
    {
      "cell_type": "markdown",
      "metadata": {
        "id": "MmgwUoy9E-8p"
      },
      "source": [
        "### **5. Convolutional Neural Networks**"
      ]
    },
    {
      "cell_type": "markdown",
      "metadata": {
        "id": "CBgDVihEPqc-"
      },
      "source": [
        "In this section, we are going to implement a convolutional neural network (CNN) and train it on the mnist dataset. It will be very similar to what you did in the previous sections but now we use new layers like ```convolution```and ```pooling```.  "
      ]
    },
    {
      "cell_type": "markdown",
      "metadata": {
        "id": "1V3mnkdaZHj6"
      },
      "source": [
        "![image.png](data:image/png;base64,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)"
      ]
    },
    {
      "cell_type": "markdown",
      "metadata": {
        "id": "znl7yn3RTvQK"
      },
      "source": [
        "Reminder:  \n",
        "Go over this **[article](https://cs231n.github.io/convolutional-networks/)** to better understand convolutional neural networks.\n",
        "\n",
        "- **Convolutional operation:** A “filter”, also called a “kernel”, is passed over the image, viewing a few pixels at a time (for example, 3X3 or 5X5). The convolution operation is a dot product of the original pixel values with weights defined in the filter. The results are summed up into one number that represents all the pixels the filter observed. \n",
        "\n",
        "- **Pooling:** “Pooling” is the process of further downsampling and reducing the size of the matrix. A filter is passed over the results of the previous layer and selects one number out of each group of values (typically the maximum, this is called max pooling). This allows the network to train much faster, focusing on the most important information in each feature of the image. By sliding the window along the image, we compute the mean or the max of the portion of the image inside the window in case of MeanPooling or MaxPooling.\n",
        "\n",
        "- **Stride:** The number of pixels to pass at a time when sliding the convolutional kernel.\n",
        "\n",
        "- **Padding:** To preserve exactly the size of the input image, it is useful to add zero padding on the border of the image."
      ]
    },
    {
      "cell_type": "markdown",
      "metadata": {
        "id": "kUG8jzcYZZ7D"
      },
      "source": [
        "**Q1:** Given an image with shape [1,28,28], what will be the shape of the output of a convolution layer with 10 5x5 kernels (filters) without padding?"
      ]
    },
    {
      "cell_type": "markdown",
      "metadata": {
        "id": "VUsaEQHDZ6vV"
      },
      "source": [
        "**A1:**\n",
        "<font color='red'>\n",
        "[1,24,24] \n",
        "</font>"
      ]
    },
    {
      "cell_type": "markdown",
      "metadata": {
        "id": "ZEiNcIr5aRvz"
      },
      "source": [
        "**Q2:** We would like our convolution layer to output a volume with the same shape as the input image. So input_shape and output_shape will be [1,28,28]. What should be the padding?"
      ]
    },
    {
      "cell_type": "markdown",
      "metadata": {
        "id": "5KHniihVbEAO"
      },
      "source": [
        "**A2:** \n",
        "<font color='red'>\n",
        "padding = 2 \n",
        "</font>"
      ]
    },
    {
      "cell_type": "markdown",
      "metadata": {
        "id": "QRnkf_j-bG6C"
      },
      "source": [
        "**Q3:** Given an image with width $W_{in}$, height $H_{in}$, and a convolution layer with padding $P$, stride $S$ and filter size $F$. Write a formula for the width $W_{out}$ and a formula for the height $H_{out}$ of the convolution's output.   \n",
        "(In other words, what will be the width and the height of the output?)."
      ]
    },
    {
      "cell_type": "markdown",
      "metadata": {
        "id": "N0vGu6UYdT9h"
      },
      "source": [
        "**A3:** \n",
        "</br>\n",
        "<font color='red'>\n",
        "$W_{out} = (W_{in} - F + 2P)/S + 1$\n",
        "</br>\n",
        "$H_{out} = (H_{in} - F + 2P)/S + 1$\n",
        "</font>"
      ]
    },
    {
      "cell_type": "markdown",
      "metadata": {
        "id": "NFf7MypLSwAd"
      },
      "source": [
        "Let's create a simple Convolutional neural network.\n",
        "The architecture:  \n",
        "**Conv layer** (10 5x5 Kernels) -> **Max Pooling** (2x2 kernel) -> **Relu** -> **Conv layer** (20 5x5 Kernels) -> **Max Pooling** (2x2 kernel) -> **Relu** -> **Hidden layer** (320 units) -> **Relu** -> **Hidden layer** (50 units) -> **Output layer** (10 outputs)."
      ]
    },
    {
      "cell_type": "code",
      "execution_count": null,
      "metadata": {
        "id": "H-izaqKdFCio",
        "colab": {
          "base_uri": "https://localhost:8080/"
        },
        "outputId": "910aab9e-7007-4a39-96b7-e614b794612b"
      },
      "outputs": [
        {
          "output_type": "stream",
          "name": "stdout",
          "text": [
            "ConvolutionalNet(\n",
            "  (conv1): Conv2d(1, 10, kernel_size=(5, 5), stride=(1, 1))\n",
            "  (conv2): Conv2d(10, 20, kernel_size=(5, 5), stride=(1, 1))\n",
            "  (fc1): Linear(in_features=320, out_features=50, bias=True)\n",
            "  (fc2): Linear(in_features=50, out_features=10, bias=True)\n",
            ")\n"
          ]
        }
      ],
      "source": [
        "class ConvolutionalNet(nn.Module):\n",
        "    def __init__(self):\n",
        "        super(ConvolutionalNet, self).__init__() \n",
        "        self.conv1 = nn.Conv2d(1, 10, kernel_size=5)\n",
        "        self.conv2 = nn.Conv2d(10, 20, kernel_size=5)\n",
        "        self.fc1 = nn.Linear(320, 50)\n",
        "        self.fc2 = nn.Linear(50, 10)\n",
        "\n",
        "    def forward(self, x):\n",
        "        x = self.conv1(x) # conv 1\n",
        "        x = F.max_pool2d(x, 2) # max pooling 1\n",
        "        x = F.relu(x) # relu \n",
        "        x = self.conv2(x) # conv 2\n",
        "        x = F.max_pool2d((x), 2) # max pooling 2\n",
        "        x = F.relu(x) # relu\n",
        "        x = x.view(-1, 320) # flatten input\n",
        "        x = self.fc1(x) # hidden layer 1\n",
        "        x = F.relu(x) # relu\n",
        "        x = self.fc2(x) # hidden layer 2\n",
        "        return F.log_softmax(x, dim=1) #output\n",
        "\n",
        "cnn_model = ConvolutionalNet()\n",
        "print(cnn_model)"
      ]
    },
    {
      "cell_type": "markdown",
      "metadata": {
        "id": "N7cidJDWisGO"
      },
      "source": [
        "We can now train the model on the train set."
      ]
    },
    {
      "cell_type": "code",
      "execution_count": null,
      "metadata": {
        "id": "XYUsHEwCk6k0"
      },
      "outputs": [],
      "source": [
        "# set hyperparameters\n",
        "cnn_nepochs = 3\n",
        "cnn_learning_rate = 0.01"
      ]
    },
    {
      "cell_type": "code",
      "execution_count": null,
      "metadata": {
        "id": "Yir2ss0LWy2g",
        "colab": {
          "base_uri": "https://localhost:8080/"
        },
        "outputId": "97050d2d-3466-4f5b-f1b1-1839d6fd5881"
      },
      "outputs": [
        {
          "output_type": "stream",
          "name": "stdout",
          "text": [
            "Epoch: 1/3..  Training Loss: 1.457..  Validation Loss: 0.358.. \n",
            "Epoch: 2/3..  Training Loss: 0.245..  Validation Loss: 0.179.. \n",
            "Epoch: 3/3..  Training Loss: 0.159..  Validation Loss: 0.130.. \n"
          ]
        }
      ],
      "source": [
        "# train the conv model\n",
        "cnn_model = ConvolutionalNet()\n",
        "# create sgd optimizer\n",
        "cnn_optimizer = optim.SGD(cnn_model.parameters(), lr=cnn_learning_rate)\n",
        "# create negative log likelihood loos\n",
        "cnn_criterion = nn.NLLLoss()\n",
        "\n",
        "train_losses, val_losses = train_model(cnn_model, cnn_optimizer, cnn_criterion,\n",
        "                                       cnn_nepochs, train_loader, val_loader, is_image_input=False)"
      ]
    },
    {
      "cell_type": "code",
      "execution_count": null,
      "metadata": {
        "id": "eP1CkJ7Nlb_c",
        "colab": {
          "base_uri": "https://localhost:8080/"
        },
        "outputId": "2f5b5af2-34f8-4f08-c839-9562617914a6"
      },
      "outputs": [
        {
          "output_type": "stream",
          "name": "stdout",
          "text": [
            "Validation accuracy: 0.9613333344459534\n"
          ]
        }
      ],
      "source": [
        "# evaluate on the validation set\n",
        "print(f\"Validation accuracy: {evaluate_model(cnn_model, val_loader, is_image_input=False)}\")"
      ]
    },
    {
      "cell_type": "markdown",
      "metadata": {
        "id": "rFIyRb8Sm7Ek"
      },
      "source": [
        "You should probably see that our CNN performs better on the validation set compared to the simple neural network (within 3 epochs only!) :)"
      ]
    },
    {
      "cell_type": "markdown",
      "metadata": {
        "id": "SAy1yNIApxD0"
      },
      "source": [
        "___________"
      ]
    },
    {
      "cell_type": "markdown",
      "metadata": {
        "id": "d0Wq5NGgnE7G"
      },
      "source": [
        "Now it's your turn: Use the code above and create a convolutional neural network that achieves the best accuracy on the validation set. \n",
        "\n",
        "You should consider changing:\n",
        "1. Prepocess:\n",
        "  - Change normalization\n",
        "  - Better representation of the data\n",
        "\n",
        "1. Network architecture:\n",
        "  - Number of convolutional layers\n",
        "  - Number of kernels (filters) for each convolutional layer\n",
        "  - Size of each kernel on each layer\n",
        "  - Number of hidden layers (fully connected)\n",
        "  - Number of units for each hidden layer\n",
        "  - Usage of layers like BatchNormalization and Dropout.\n",
        "  - Usage of max pooling (or maybe other pooling strategies)\n",
        "\n",
        "1. Training hyperparameters:\n",
        "  - Learning rate\n",
        "  - Optimizer (SGD with momentum, adam, etc)\n",
        "  - Number of epochs\n",
        "\n"
      ]
    },
    {
      "cell_type": "code",
      "execution_count": null,
      "metadata": {
        "id": "sDmiUnOkz_Po"
      },
      "outputs": [],
      "source": [
        "## Prepocess\n"
      ]
    },
    {
      "cell_type": "code",
      "execution_count": null,
      "metadata": {
        "id": "M-Rm-Jvpm0sp"
      },
      "outputs": [],
      "source": [
        "## Find network and hyperparams that achieve best validation accuracy as possible\n",
        "# set hyperparameters\n",
        "cnn_nepochs = 10\n",
        "cnn_learning_rate = 0.01"
      ]
    },
    {
      "cell_type": "code",
      "execution_count": null,
      "metadata": {
        "id": "3rVKh9fDzHwz",
        "colab": {
          "base_uri": "https://localhost:8080/"
        },
        "outputId": "8f65304b-e9b9-4966-c96c-042b6567c03d"
      },
      "outputs": [
        {
          "output_type": "stream",
          "name": "stdout",
          "text": [
            "BestConvolutionalNet(\n",
            "  (conv1): Conv2d(1, 32, kernel_size=(5, 5), stride=(1, 1))\n",
            "  (conv2): Conv2d(32, 64, kernel_size=(5, 5), stride=(1, 1))\n",
            "  (fc1): Linear(in_features=1024, out_features=512, bias=True)\n",
            "  (fc2): Linear(in_features=512, out_features=256, bias=True)\n",
            "  (fc3): Linear(in_features=256, out_features=10, bias=True)\n",
            "  (pool1): MaxPool2d(kernel_size=2, stride=2, padding=0, dilation=1, ceil_mode=False)\n",
            "  (pool2): MaxPool2d(kernel_size=2, stride=2, padding=0, dilation=1, ceil_mode=False)\n",
            "  (drop1): Dropout(p=0.25, inplace=False)\n",
            "  (drop2): Dropout(p=0.5, inplace=False)\n",
            "  (bn1): BatchNorm2d(32, eps=1e-05, momentum=0.1, affine=True, track_running_stats=True)\n",
            "  (bn2): BatchNorm2d(64, eps=1e-05, momentum=0.1, affine=True, track_running_stats=True)\n",
            ")\n"
          ]
        }
      ],
      "source": [
        "# save the best model in this variable\n",
        "class BestConvolutionalNet(nn.Module):\n",
        "    def __init__(self):\n",
        "      super(BestConvolutionalNet, self).__init__() \n",
        "      self.conv1 = nn.Conv2d(1, 32,kernel_size= 5)  # chnl-in, out, krnl\n",
        "      self.conv2 = nn.Conv2d(32, 64,kernel_size= 5)\n",
        "      self.fc1 = nn.Linear(1024, 512)   # [64*4*4, x]\n",
        "      self.fc2 = nn.Linear(512, 256)\n",
        "      self.fc3 = nn.Linear(256, 10)     # 10 classes\n",
        "      self.pool1 = nn.MaxPool2d(2, stride=2)\n",
        "      self.pool2 = nn.MaxPool2d(2, stride=2)\n",
        "      self.drop1 = nn.Dropout(0.25)\n",
        "      self.drop2 = nn.Dropout(0.50)\n",
        "      self.bn1 = nn.BatchNorm2d(32)\n",
        "      self.bn2 = nn.BatchNorm2d(64)\n",
        "    \n",
        "    def forward(self, x):\n",
        "      x = self.conv1(x)\n",
        "      x = self.bn1(x)\n",
        "      x = F.relu(x)\n",
        "      x = self.pool1(x)\n",
        "      x = self.drop1(x)\n",
        "\n",
        "      x = self.conv2(x)\n",
        "      x = self.bn2(x)\n",
        "      x = F.relu(x)\n",
        "      x = self.pool2(x)\n",
        "      \n",
        "      x = x.view(-1,1024)\n",
        "      x = self.fc1(x)\n",
        "      x = F.relu(x)\n",
        "      x = self.drop2(x)\n",
        "      x = self.fc2(x)\n",
        "      x = F.relu(x)\n",
        "      x = self.fc3(x)\n",
        "      return F.log_softmax(x, dim=1) #output\n",
        "\n",
        "\n",
        "best_model = BestConvolutionalNet()\n",
        "print(best_model)"
      ]
    },
    {
      "cell_type": "code",
      "source": [
        "# Evaluate best model:\n",
        "# train the conv model\n",
        "best_model = ConvolutionalNet()\n",
        "# create sgd optimizer\n",
        "cnn_optimizer = optim.SGD(best_model.parameters(), lr=cnn_learning_rate)\n",
        "# create negative log likelihood loos\n",
        "cnn_criterion = nn.NLLLoss()\n",
        "\n",
        "train_losses, val_losses = train_model(best_model, cnn_optimizer, cnn_criterion,\n",
        "                                       cnn_nepochs, train_loader, val_loader, is_image_input=False)\n",
        "# evaluate on the validation set\n",
        "print(f\"Validation accuracy: {evaluate_model(best_model, val_loader, is_image_input=False)}\")\n"
      ],
      "metadata": {
        "colab": {
          "base_uri": "https://localhost:8080/"
        },
        "id": "2Ax8ci_B4gQm",
        "outputId": "c2c613a0-050e-481a-99fa-e2594cd48289"
      },
      "execution_count": null,
      "outputs": [
        {
          "output_type": "stream",
          "name": "stdout",
          "text": [
            "Epoch: 1/10..  Training Loss: 1.103..  Validation Loss: 0.331.. \n",
            "Epoch: 2/10..  Training Loss: 0.251..  Validation Loss: 0.189.. \n",
            "Epoch: 3/10..  Training Loss: 0.165..  Validation Loss: 0.135.. \n",
            "Epoch: 4/10..  Training Loss: 0.125..  Validation Loss: 0.117.. \n",
            "Epoch: 5/10..  Training Loss: 0.103..  Validation Loss: 0.094.. \n",
            "Epoch: 6/10..  Training Loss: 0.090..  Validation Loss: 0.085.. \n",
            "Epoch: 7/10..  Training Loss: 0.080..  Validation Loss: 0.083.. \n",
            "Epoch: 8/10..  Training Loss: 0.074..  Validation Loss: 0.070.. \n",
            "Epoch: 9/10..  Training Loss: 0.067..  Validation Loss: 0.072.. \n",
            "Epoch: 10/10..  Training Loss: 0.063..  Validation Loss: 0.071.. \n",
            "Validation accuracy: 0.9779166579246521\n"
          ]
        }
      ]
    },
    {
      "cell_type": "markdown",
      "metadata": {
        "id": "ykVKcNpbp8PY"
      },
      "source": [
        "When you are satisfied with your model performance on the validation set, load the test set given to you (the samples are already normalized), and write the model predictions for each test sample to a file called \"predictions.txt\". You can use the code below.\n",
        "\n",
        "\n",
        "**Upload the file to the \"submit\" system with this notebook.**\n",
        "\n",
        "Make sure that each prediction will be printed in a new line.\n",
        "\n",
        "For Example (\"predictions.txt\"): \n",
        "```\n",
        "0  \n",
        "5  \n",
        "9 \n",
        "``` "
      ]
    },
    {
      "cell_type": "code",
      "execution_count": null,
      "metadata": {
        "id": "K6I2RYelzYxN"
      },
      "outputs": [],
      "source": [
        "def predict_and_save(model, test_path, file_name):\n",
        "  # load mnist test data\n",
        "  mnist_test_data = torch.utils.data.TensorDataset(torch.load(test_path))\n",
        "  # create a dataloader\n",
        "  mnist_test_loader = torch.utils.data.DataLoader(mnist_test_data, batch_size=32, shuffle=False)\n",
        "  # make a prediction for each batch and save all predictions in total_preds\n",
        "  total_preds = torch.empty(0, dtype=torch.long)\n",
        "  for imgs in mnist_test_loader:\n",
        "    log_ps = model(imgs[0])\n",
        "    ps = torch.exp(log_ps)\n",
        "    _, top_class = ps.topk(1, dim=1)\n",
        "    total_preds = torch.cat((total_preds, top_class.reshape(-1)))\n",
        "  total_preds = total_preds.cpu().numpy()\n",
        "  # write all predictions to a file\n",
        "  with open(file_name,\"w\") as pred_f:\n",
        "    for pred in total_preds:\n",
        "      pred_f.write(str(pred) + \"\\n\")\n"
      ]
    },
    {
      "cell_type": "code",
      "execution_count": null,
      "metadata": {
        "id": "c2Pw3NHOtAi0"
      },
      "outputs": [],
      "source": [
        "# run this to save test predictions to \"predictions.txt\"\n",
        "predict_and_save(best_model, test_path=f\"{ASSIGNMENTNAME}/mnist_test.pth\", file_name=\"predictions.txt\")"
      ]
    }
  ],
  "metadata": {
    "accelerator": "GPU",
    "colab": {
      "provenance": [],
      "toc_visible": true,
      "include_colab_link": true
    },
    "gpuClass": "standard",
    "kernelspec": {
      "display_name": "Python 3",
      "name": "python3"
    },
    "widgets": {
      "application/vnd.jupyter.widget-state+json": {
        "3a2d3f6daf7340ec836951e36b11c450": {
          "model_module": "@jupyter-widgets/controls",
          "model_name": "HBoxModel",
          "model_module_version": "1.5.0",
          "state": {
            "_dom_classes": [],
            "_model_module": "@jupyter-widgets/controls",
            "_model_module_version": "1.5.0",
            "_model_name": "HBoxModel",
            "_view_count": null,
            "_view_module": "@jupyter-widgets/controls",
            "_view_module_version": "1.5.0",
            "_view_name": "HBoxView",
            "box_style": "",
            "children": [
              "IPY_MODEL_d65c94c8057e45bebd79434e04492610",
              "IPY_MODEL_0b00886cae3b435ca73df2d52c8c8441",
              "IPY_MODEL_20d60e3d90ac4f329b7851f3d953a095"
            ],
            "layout": "IPY_MODEL_c5bf457057bf414ca45d3527320f1350"
          }
        },
        "d65c94c8057e45bebd79434e04492610": {
          "model_module": "@jupyter-widgets/controls",
          "model_name": "HTMLModel",
          "model_module_version": "1.5.0",
          "state": {
            "_dom_classes": [],
            "_model_module": "@jupyter-widgets/controls",
            "_model_module_version": "1.5.0",
            "_model_name": "HTMLModel",
            "_view_count": null,
            "_view_module": "@jupyter-widgets/controls",
            "_view_module_version": "1.5.0",
            "_view_name": "HTMLView",
            "description": "",
            "description_tooltip": null,
            "layout": "IPY_MODEL_51591bc47b844d29b4fba7df1e12a979",
            "placeholder": "​",
            "style": "IPY_MODEL_30d9a63b0e154b688b3410b4076a0cf2",
            "value": "100%"
          }
        },
        "0b00886cae3b435ca73df2d52c8c8441": {
          "model_module": "@jupyter-widgets/controls",
          "model_name": "FloatProgressModel",
          "model_module_version": "1.5.0",
          "state": {
            "_dom_classes": [],
            "_model_module": "@jupyter-widgets/controls",
            "_model_module_version": "1.5.0",
            "_model_name": "FloatProgressModel",
            "_view_count": null,
            "_view_module": "@jupyter-widgets/controls",
            "_view_module_version": "1.5.0",
            "_view_name": "ProgressView",
            "bar_style": "success",
            "description": "",
            "description_tooltip": null,
            "layout": "IPY_MODEL_c6808cd0b8054ac3b17435d72f3dd4a2",
            "max": 9912422,
            "min": 0,
            "orientation": "horizontal",
            "style": "IPY_MODEL_2d9258ac82ab4c75a430443e729dd64c",
            "value": 9912422
          }
        },
        "20d60e3d90ac4f329b7851f3d953a095": {
          "model_module": "@jupyter-widgets/controls",
          "model_name": "HTMLModel",
          "model_module_version": "1.5.0",
          "state": {
            "_dom_classes": [],
            "_model_module": "@jupyter-widgets/controls",
            "_model_module_version": "1.5.0",
            "_model_name": "HTMLModel",
            "_view_count": null,
            "_view_module": "@jupyter-widgets/controls",
            "_view_module_version": "1.5.0",
            "_view_name": "HTMLView",
            "description": "",
            "description_tooltip": null,
            "layout": "IPY_MODEL_cebf00c482e04fe7aa45e76582c0fe47",
            "placeholder": "​",
            "style": "IPY_MODEL_81c92e26f5ce42209d961d7a52f1a189",
            "value": " 9912422/9912422 [00:00&lt;00:00, 203127406.19it/s]"
          }
        },
        "c5bf457057bf414ca45d3527320f1350": {
          "model_module": "@jupyter-widgets/base",
          "model_name": "LayoutModel",
          "model_module_version": "1.2.0",
          "state": {
            "_model_module": "@jupyter-widgets/base",
            "_model_module_version": "1.2.0",
            "_model_name": "LayoutModel",
            "_view_count": null,
            "_view_module": "@jupyter-widgets/base",
            "_view_module_version": "1.2.0",
            "_view_name": "LayoutView",
            "align_content": null,
            "align_items": null,
            "align_self": null,
            "border": null,
            "bottom": null,
            "display": null,
            "flex": null,
            "flex_flow": null,
            "grid_area": null,
            "grid_auto_columns": null,
            "grid_auto_flow": null,
            "grid_auto_rows": null,
            "grid_column": null,
            "grid_gap": null,
            "grid_row": null,
            "grid_template_areas": null,
            "grid_template_columns": null,
            "grid_template_rows": null,
            "height": null,
            "justify_content": null,
            "justify_items": null,
            "left": null,
            "margin": null,
            "max_height": null,
            "max_width": null,
            "min_height": null,
            "min_width": null,
            "object_fit": null,
            "object_position": null,
            "order": null,
            "overflow": null,
            "overflow_x": null,
            "overflow_y": null,
            "padding": null,
            "right": null,
            "top": null,
            "visibility": null,
            "width": null
          }
        },
        "51591bc47b844d29b4fba7df1e12a979": {
          "model_module": "@jupyter-widgets/base",
          "model_name": "LayoutModel",
          "model_module_version": "1.2.0",
          "state": {
            "_model_module": "@jupyter-widgets/base",
            "_model_module_version": "1.2.0",
            "_model_name": "LayoutModel",
            "_view_count": null,
            "_view_module": "@jupyter-widgets/base",
            "_view_module_version": "1.2.0",
            "_view_name": "LayoutView",
            "align_content": null,
            "align_items": null,
            "align_self": null,
            "border": null,
            "bottom": null,
            "display": null,
            "flex": null,
            "flex_flow": null,
            "grid_area": null,
            "grid_auto_columns": null,
            "grid_auto_flow": null,
            "grid_auto_rows": null,
            "grid_column": null,
            "grid_gap": null,
            "grid_row": null,
            "grid_template_areas": null,
            "grid_template_columns": null,
            "grid_template_rows": null,
            "height": null,
            "justify_content": null,
            "justify_items": null,
            "left": null,
            "margin": null,
            "max_height": null,
            "max_width": null,
            "min_height": null,
            "min_width": null,
            "object_fit": null,
            "object_position": null,
            "order": null,
            "overflow": null,
            "overflow_x": null,
            "overflow_y": null,
            "padding": null,
            "right": null,
            "top": null,
            "visibility": null,
            "width": null
          }
        },
        "30d9a63b0e154b688b3410b4076a0cf2": {
          "model_module": "@jupyter-widgets/controls",
          "model_name": "DescriptionStyleModel",
          "model_module_version": "1.5.0",
          "state": {
            "_model_module": "@jupyter-widgets/controls",
            "_model_module_version": "1.5.0",
            "_model_name": "DescriptionStyleModel",
            "_view_count": null,
            "_view_module": "@jupyter-widgets/base",
            "_view_module_version": "1.2.0",
            "_view_name": "StyleView",
            "description_width": ""
          }
        },
        "c6808cd0b8054ac3b17435d72f3dd4a2": {
          "model_module": "@jupyter-widgets/base",
          "model_name": "LayoutModel",
          "model_module_version": "1.2.0",
          "state": {
            "_model_module": "@jupyter-widgets/base",
            "_model_module_version": "1.2.0",
            "_model_name": "LayoutModel",
            "_view_count": null,
            "_view_module": "@jupyter-widgets/base",
            "_view_module_version": "1.2.0",
            "_view_name": "LayoutView",
            "align_content": null,
            "align_items": null,
            "align_self": null,
            "border": null,
            "bottom": null,
            "display": null,
            "flex": null,
            "flex_flow": null,
            "grid_area": null,
            "grid_auto_columns": null,
            "grid_auto_flow": null,
            "grid_auto_rows": null,
            "grid_column": null,
            "grid_gap": null,
            "grid_row": null,
            "grid_template_areas": null,
            "grid_template_columns": null,
            "grid_template_rows": null,
            "height": null,
            "justify_content": null,
            "justify_items": null,
            "left": null,
            "margin": null,
            "max_height": null,
            "max_width": null,
            "min_height": null,
            "min_width": null,
            "object_fit": null,
            "object_position": null,
            "order": null,
            "overflow": null,
            "overflow_x": null,
            "overflow_y": null,
            "padding": null,
            "right": null,
            "top": null,
            "visibility": null,
            "width": null
          }
        },
        "2d9258ac82ab4c75a430443e729dd64c": {
          "model_module": "@jupyter-widgets/controls",
          "model_name": "ProgressStyleModel",
          "model_module_version": "1.5.0",
          "state": {
            "_model_module": "@jupyter-widgets/controls",
            "_model_module_version": "1.5.0",
            "_model_name": "ProgressStyleModel",
            "_view_count": null,
            "_view_module": "@jupyter-widgets/base",
            "_view_module_version": "1.2.0",
            "_view_name": "StyleView",
            "bar_color": null,
            "description_width": ""
          }
        },
        "cebf00c482e04fe7aa45e76582c0fe47": {
          "model_module": "@jupyter-widgets/base",
          "model_name": "LayoutModel",
          "model_module_version": "1.2.0",
          "state": {
            "_model_module": "@jupyter-widgets/base",
            "_model_module_version": "1.2.0",
            "_model_name": "LayoutModel",
            "_view_count": null,
            "_view_module": "@jupyter-widgets/base",
            "_view_module_version": "1.2.0",
            "_view_name": "LayoutView",
            "align_content": null,
            "align_items": null,
            "align_self": null,
            "border": null,
            "bottom": null,
            "display": null,
            "flex": null,
            "flex_flow": null,
            "grid_area": null,
            "grid_auto_columns": null,
            "grid_auto_flow": null,
            "grid_auto_rows": null,
            "grid_column": null,
            "grid_gap": null,
            "grid_row": null,
            "grid_template_areas": null,
            "grid_template_columns": null,
            "grid_template_rows": null,
            "height": null,
            "justify_content": null,
            "justify_items": null,
            "left": null,
            "margin": null,
            "max_height": null,
            "max_width": null,
            "min_height": null,
            "min_width": null,
            "object_fit": null,
            "object_position": null,
            "order": null,
            "overflow": null,
            "overflow_x": null,
            "overflow_y": null,
            "padding": null,
            "right": null,
            "top": null,
            "visibility": null,
            "width": null
          }
        },
        "81c92e26f5ce42209d961d7a52f1a189": {
          "model_module": "@jupyter-widgets/controls",
          "model_name": "DescriptionStyleModel",
          "model_module_version": "1.5.0",
          "state": {
            "_model_module": "@jupyter-widgets/controls",
            "_model_module_version": "1.5.0",
            "_model_name": "DescriptionStyleModel",
            "_view_count": null,
            "_view_module": "@jupyter-widgets/base",
            "_view_module_version": "1.2.0",
            "_view_name": "StyleView",
            "description_width": ""
          }
        },
        "c4fcb4679aea4048a0dcbad71f781758": {
          "model_module": "@jupyter-widgets/controls",
          "model_name": "HBoxModel",
          "model_module_version": "1.5.0",
          "state": {
            "_dom_classes": [],
            "_model_module": "@jupyter-widgets/controls",
            "_model_module_version": "1.5.0",
            "_model_name": "HBoxModel",
            "_view_count": null,
            "_view_module": "@jupyter-widgets/controls",
            "_view_module_version": "1.5.0",
            "_view_name": "HBoxView",
            "box_style": "",
            "children": [
              "IPY_MODEL_ae78f26df55a4e57b37b2e73a693a9f2",
              "IPY_MODEL_2f23ee52092645d298e56a9e2a2c3aed",
              "IPY_MODEL_7e861c3814984addaaf921416a13a970"
            ],
            "layout": "IPY_MODEL_23cdf3f0acd94f47ac35604c2015aae8"
          }
        },
        "ae78f26df55a4e57b37b2e73a693a9f2": {
          "model_module": "@jupyter-widgets/controls",
          "model_name": "HTMLModel",
          "model_module_version": "1.5.0",
          "state": {
            "_dom_classes": [],
            "_model_module": "@jupyter-widgets/controls",
            "_model_module_version": "1.5.0",
            "_model_name": "HTMLModel",
            "_view_count": null,
            "_view_module": "@jupyter-widgets/controls",
            "_view_module_version": "1.5.0",
            "_view_name": "HTMLView",
            "description": "",
            "description_tooltip": null,
            "layout": "IPY_MODEL_bcd735744a8b4561b47617678c6391d4",
            "placeholder": "​",
            "style": "IPY_MODEL_a772e82d150d42c69dacb8f646706fbf",
            "value": "100%"
          }
        },
        "2f23ee52092645d298e56a9e2a2c3aed": {
          "model_module": "@jupyter-widgets/controls",
          "model_name": "FloatProgressModel",
          "model_module_version": "1.5.0",
          "state": {
            "_dom_classes": [],
            "_model_module": "@jupyter-widgets/controls",
            "_model_module_version": "1.5.0",
            "_model_name": "FloatProgressModel",
            "_view_count": null,
            "_view_module": "@jupyter-widgets/controls",
            "_view_module_version": "1.5.0",
            "_view_name": "ProgressView",
            "bar_style": "success",
            "description": "",
            "description_tooltip": null,
            "layout": "IPY_MODEL_46c111e784514688a8f6c844ece163a1",
            "max": 28881,
            "min": 0,
            "orientation": "horizontal",
            "style": "IPY_MODEL_36d296797c814ff38e1388e88b7a4ca9",
            "value": 28881
          }
        },
        "7e861c3814984addaaf921416a13a970": {
          "model_module": "@jupyter-widgets/controls",
          "model_name": "HTMLModel",
          "model_module_version": "1.5.0",
          "state": {
            "_dom_classes": [],
            "_model_module": "@jupyter-widgets/controls",
            "_model_module_version": "1.5.0",
            "_model_name": "HTMLModel",
            "_view_count": null,
            "_view_module": "@jupyter-widgets/controls",
            "_view_module_version": "1.5.0",
            "_view_name": "HTMLView",
            "description": "",
            "description_tooltip": null,
            "layout": "IPY_MODEL_987aac850ae74234b8eab0f531b258ea",
            "placeholder": "​",
            "style": "IPY_MODEL_071d35edfb894e97bba7357dd46cbf9f",
            "value": " 28881/28881 [00:00&lt;00:00, 809541.18it/s]"
          }
        },
        "23cdf3f0acd94f47ac35604c2015aae8": {
          "model_module": "@jupyter-widgets/base",
          "model_name": "LayoutModel",
          "model_module_version": "1.2.0",
          "state": {
            "_model_module": "@jupyter-widgets/base",
            "_model_module_version": "1.2.0",
            "_model_name": "LayoutModel",
            "_view_count": null,
            "_view_module": "@jupyter-widgets/base",
            "_view_module_version": "1.2.0",
            "_view_name": "LayoutView",
            "align_content": null,
            "align_items": null,
            "align_self": null,
            "border": null,
            "bottom": null,
            "display": null,
            "flex": null,
            "flex_flow": null,
            "grid_area": null,
            "grid_auto_columns": null,
            "grid_auto_flow": null,
            "grid_auto_rows": null,
            "grid_column": null,
            "grid_gap": null,
            "grid_row": null,
            "grid_template_areas": null,
            "grid_template_columns": null,
            "grid_template_rows": null,
            "height": null,
            "justify_content": null,
            "justify_items": null,
            "left": null,
            "margin": null,
            "max_height": null,
            "max_width": null,
            "min_height": null,
            "min_width": null,
            "object_fit": null,
            "object_position": null,
            "order": null,
            "overflow": null,
            "overflow_x": null,
            "overflow_y": null,
            "padding": null,
            "right": null,
            "top": null,
            "visibility": null,
            "width": null
          }
        },
        "bcd735744a8b4561b47617678c6391d4": {
          "model_module": "@jupyter-widgets/base",
          "model_name": "LayoutModel",
          "model_module_version": "1.2.0",
          "state": {
            "_model_module": "@jupyter-widgets/base",
            "_model_module_version": "1.2.0",
            "_model_name": "LayoutModel",
            "_view_count": null,
            "_view_module": "@jupyter-widgets/base",
            "_view_module_version": "1.2.0",
            "_view_name": "LayoutView",
            "align_content": null,
            "align_items": null,
            "align_self": null,
            "border": null,
            "bottom": null,
            "display": null,
            "flex": null,
            "flex_flow": null,
            "grid_area": null,
            "grid_auto_columns": null,
            "grid_auto_flow": null,
            "grid_auto_rows": null,
            "grid_column": null,
            "grid_gap": null,
            "grid_row": null,
            "grid_template_areas": null,
            "grid_template_columns": null,
            "grid_template_rows": null,
            "height": null,
            "justify_content": null,
            "justify_items": null,
            "left": null,
            "margin": null,
            "max_height": null,
            "max_width": null,
            "min_height": null,
            "min_width": null,
            "object_fit": null,
            "object_position": null,
            "order": null,
            "overflow": null,
            "overflow_x": null,
            "overflow_y": null,
            "padding": null,
            "right": null,
            "top": null,
            "visibility": null,
            "width": null
          }
        },
        "a772e82d150d42c69dacb8f646706fbf": {
          "model_module": "@jupyter-widgets/controls",
          "model_name": "DescriptionStyleModel",
          "model_module_version": "1.5.0",
          "state": {
            "_model_module": "@jupyter-widgets/controls",
            "_model_module_version": "1.5.0",
            "_model_name": "DescriptionStyleModel",
            "_view_count": null,
            "_view_module": "@jupyter-widgets/base",
            "_view_module_version": "1.2.0",
            "_view_name": "StyleView",
            "description_width": ""
          }
        },
        "46c111e784514688a8f6c844ece163a1": {
          "model_module": "@jupyter-widgets/base",
          "model_name": "LayoutModel",
          "model_module_version": "1.2.0",
          "state": {
            "_model_module": "@jupyter-widgets/base",
            "_model_module_version": "1.2.0",
            "_model_name": "LayoutModel",
            "_view_count": null,
            "_view_module": "@jupyter-widgets/base",
            "_view_module_version": "1.2.0",
            "_view_name": "LayoutView",
            "align_content": null,
            "align_items": null,
            "align_self": null,
            "border": null,
            "bottom": null,
            "display": null,
            "flex": null,
            "flex_flow": null,
            "grid_area": null,
            "grid_auto_columns": null,
            "grid_auto_flow": null,
            "grid_auto_rows": null,
            "grid_column": null,
            "grid_gap": null,
            "grid_row": null,
            "grid_template_areas": null,
            "grid_template_columns": null,
            "grid_template_rows": null,
            "height": null,
            "justify_content": null,
            "justify_items": null,
            "left": null,
            "margin": null,
            "max_height": null,
            "max_width": null,
            "min_height": null,
            "min_width": null,
            "object_fit": null,
            "object_position": null,
            "order": null,
            "overflow": null,
            "overflow_x": null,
            "overflow_y": null,
            "padding": null,
            "right": null,
            "top": null,
            "visibility": null,
            "width": null
          }
        },
        "36d296797c814ff38e1388e88b7a4ca9": {
          "model_module": "@jupyter-widgets/controls",
          "model_name": "ProgressStyleModel",
          "model_module_version": "1.5.0",
          "state": {
            "_model_module": "@jupyter-widgets/controls",
            "_model_module_version": "1.5.0",
            "_model_name": "ProgressStyleModel",
            "_view_count": null,
            "_view_module": "@jupyter-widgets/base",
            "_view_module_version": "1.2.0",
            "_view_name": "StyleView",
            "bar_color": null,
            "description_width": ""
          }
        },
        "987aac850ae74234b8eab0f531b258ea": {
          "model_module": "@jupyter-widgets/base",
          "model_name": "LayoutModel",
          "model_module_version": "1.2.0",
          "state": {
            "_model_module": "@jupyter-widgets/base",
            "_model_module_version": "1.2.0",
            "_model_name": "LayoutModel",
            "_view_count": null,
            "_view_module": "@jupyter-widgets/base",
            "_view_module_version": "1.2.0",
            "_view_name": "LayoutView",
            "align_content": null,
            "align_items": null,
            "align_self": null,
            "border": null,
            "bottom": null,
            "display": null,
            "flex": null,
            "flex_flow": null,
            "grid_area": null,
            "grid_auto_columns": null,
            "grid_auto_flow": null,
            "grid_auto_rows": null,
            "grid_column": null,
            "grid_gap": null,
            "grid_row": null,
            "grid_template_areas": null,
            "grid_template_columns": null,
            "grid_template_rows": null,
            "height": null,
            "justify_content": null,
            "justify_items": null,
            "left": null,
            "margin": null,
            "max_height": null,
            "max_width": null,
            "min_height": null,
            "min_width": null,
            "object_fit": null,
            "object_position": null,
            "order": null,
            "overflow": null,
            "overflow_x": null,
            "overflow_y": null,
            "padding": null,
            "right": null,
            "top": null,
            "visibility": null,
            "width": null
          }
        },
        "071d35edfb894e97bba7357dd46cbf9f": {
          "model_module": "@jupyter-widgets/controls",
          "model_name": "DescriptionStyleModel",
          "model_module_version": "1.5.0",
          "state": {
            "_model_module": "@jupyter-widgets/controls",
            "_model_module_version": "1.5.0",
            "_model_name": "DescriptionStyleModel",
            "_view_count": null,
            "_view_module": "@jupyter-widgets/base",
            "_view_module_version": "1.2.0",
            "_view_name": "StyleView",
            "description_width": ""
          }
        },
        "d62d9472ccf7467fb4458e3b54e3d43d": {
          "model_module": "@jupyter-widgets/controls",
          "model_name": "HBoxModel",
          "model_module_version": "1.5.0",
          "state": {
            "_dom_classes": [],
            "_model_module": "@jupyter-widgets/controls",
            "_model_module_version": "1.5.0",
            "_model_name": "HBoxModel",
            "_view_count": null,
            "_view_module": "@jupyter-widgets/controls",
            "_view_module_version": "1.5.0",
            "_view_name": "HBoxView",
            "box_style": "",
            "children": [
              "IPY_MODEL_8a0d71009402418996f01cece7c7b056",
              "IPY_MODEL_afb8b0dc3ea5446db3dbed346813f90d",
              "IPY_MODEL_b6823a5378994bfca95f2bd853507c8a"
            ],
            "layout": "IPY_MODEL_1e37ec56dc4a4977b3c6b7022185483e"
          }
        },
        "8a0d71009402418996f01cece7c7b056": {
          "model_module": "@jupyter-widgets/controls",
          "model_name": "HTMLModel",
          "model_module_version": "1.5.0",
          "state": {
            "_dom_classes": [],
            "_model_module": "@jupyter-widgets/controls",
            "_model_module_version": "1.5.0",
            "_model_name": "HTMLModel",
            "_view_count": null,
            "_view_module": "@jupyter-widgets/controls",
            "_view_module_version": "1.5.0",
            "_view_name": "HTMLView",
            "description": "",
            "description_tooltip": null,
            "layout": "IPY_MODEL_44bbcb19fb074a8c809660d9e19fd401",
            "placeholder": "​",
            "style": "IPY_MODEL_83933666cccd4fe8bcbfda0a4e51a7e2",
            "value": "100%"
          }
        },
        "afb8b0dc3ea5446db3dbed346813f90d": {
          "model_module": "@jupyter-widgets/controls",
          "model_name": "FloatProgressModel",
          "model_module_version": "1.5.0",
          "state": {
            "_dom_classes": [],
            "_model_module": "@jupyter-widgets/controls",
            "_model_module_version": "1.5.0",
            "_model_name": "FloatProgressModel",
            "_view_count": null,
            "_view_module": "@jupyter-widgets/controls",
            "_view_module_version": "1.5.0",
            "_view_name": "ProgressView",
            "bar_style": "success",
            "description": "",
            "description_tooltip": null,
            "layout": "IPY_MODEL_c77ab5c2806a4889b1e768aae528ff8e",
            "max": 1648877,
            "min": 0,
            "orientation": "horizontal",
            "style": "IPY_MODEL_2833e5b51f024b668c10dacf15c3d693",
            "value": 1648877
          }
        },
        "b6823a5378994bfca95f2bd853507c8a": {
          "model_module": "@jupyter-widgets/controls",
          "model_name": "HTMLModel",
          "model_module_version": "1.5.0",
          "state": {
            "_dom_classes": [],
            "_model_module": "@jupyter-widgets/controls",
            "_model_module_version": "1.5.0",
            "_model_name": "HTMLModel",
            "_view_count": null,
            "_view_module": "@jupyter-widgets/controls",
            "_view_module_version": "1.5.0",
            "_view_name": "HTMLView",
            "description": "",
            "description_tooltip": null,
            "layout": "IPY_MODEL_29a4e078d3564601992efea9e0fb9b1a",
            "placeholder": "​",
            "style": "IPY_MODEL_2bd31e4121a9437ebf6a1432a684ca92",
            "value": " 1648877/1648877 [00:00&lt;00:00, 80990870.19it/s]"
          }
        },
        "1e37ec56dc4a4977b3c6b7022185483e": {
          "model_module": "@jupyter-widgets/base",
          "model_name": "LayoutModel",
          "model_module_version": "1.2.0",
          "state": {
            "_model_module": "@jupyter-widgets/base",
            "_model_module_version": "1.2.0",
            "_model_name": "LayoutModel",
            "_view_count": null,
            "_view_module": "@jupyter-widgets/base",
            "_view_module_version": "1.2.0",
            "_view_name": "LayoutView",
            "align_content": null,
            "align_items": null,
            "align_self": null,
            "border": null,
            "bottom": null,
            "display": null,
            "flex": null,
            "flex_flow": null,
            "grid_area": null,
            "grid_auto_columns": null,
            "grid_auto_flow": null,
            "grid_auto_rows": null,
            "grid_column": null,
            "grid_gap": null,
            "grid_row": null,
            "grid_template_areas": null,
            "grid_template_columns": null,
            "grid_template_rows": null,
            "height": null,
            "justify_content": null,
            "justify_items": null,
            "left": null,
            "margin": null,
            "max_height": null,
            "max_width": null,
            "min_height": null,
            "min_width": null,
            "object_fit": null,
            "object_position": null,
            "order": null,
            "overflow": null,
            "overflow_x": null,
            "overflow_y": null,
            "padding": null,
            "right": null,
            "top": null,
            "visibility": null,
            "width": null
          }
        },
        "44bbcb19fb074a8c809660d9e19fd401": {
          "model_module": "@jupyter-widgets/base",
          "model_name": "LayoutModel",
          "model_module_version": "1.2.0",
          "state": {
            "_model_module": "@jupyter-widgets/base",
            "_model_module_version": "1.2.0",
            "_model_name": "LayoutModel",
            "_view_count": null,
            "_view_module": "@jupyter-widgets/base",
            "_view_module_version": "1.2.0",
            "_view_name": "LayoutView",
            "align_content": null,
            "align_items": null,
            "align_self": null,
            "border": null,
            "bottom": null,
            "display": null,
            "flex": null,
            "flex_flow": null,
            "grid_area": null,
            "grid_auto_columns": null,
            "grid_auto_flow": null,
            "grid_auto_rows": null,
            "grid_column": null,
            "grid_gap": null,
            "grid_row": null,
            "grid_template_areas": null,
            "grid_template_columns": null,
            "grid_template_rows": null,
            "height": null,
            "justify_content": null,
            "justify_items": null,
            "left": null,
            "margin": null,
            "max_height": null,
            "max_width": null,
            "min_height": null,
            "min_width": null,
            "object_fit": null,
            "object_position": null,
            "order": null,
            "overflow": null,
            "overflow_x": null,
            "overflow_y": null,
            "padding": null,
            "right": null,
            "top": null,
            "visibility": null,
            "width": null
          }
        },
        "83933666cccd4fe8bcbfda0a4e51a7e2": {
          "model_module": "@jupyter-widgets/controls",
          "model_name": "DescriptionStyleModel",
          "model_module_version": "1.5.0",
          "state": {
            "_model_module": "@jupyter-widgets/controls",
            "_model_module_version": "1.5.0",
            "_model_name": "DescriptionStyleModel",
            "_view_count": null,
            "_view_module": "@jupyter-widgets/base",
            "_view_module_version": "1.2.0",
            "_view_name": "StyleView",
            "description_width": ""
          }
        },
        "c77ab5c2806a4889b1e768aae528ff8e": {
          "model_module": "@jupyter-widgets/base",
          "model_name": "LayoutModel",
          "model_module_version": "1.2.0",
          "state": {
            "_model_module": "@jupyter-widgets/base",
            "_model_module_version": "1.2.0",
            "_model_name": "LayoutModel",
            "_view_count": null,
            "_view_module": "@jupyter-widgets/base",
            "_view_module_version": "1.2.0",
            "_view_name": "LayoutView",
            "align_content": null,
            "align_items": null,
            "align_self": null,
            "border": null,
            "bottom": null,
            "display": null,
            "flex": null,
            "flex_flow": null,
            "grid_area": null,
            "grid_auto_columns": null,
            "grid_auto_flow": null,
            "grid_auto_rows": null,
            "grid_column": null,
            "grid_gap": null,
            "grid_row": null,
            "grid_template_areas": null,
            "grid_template_columns": null,
            "grid_template_rows": null,
            "height": null,
            "justify_content": null,
            "justify_items": null,
            "left": null,
            "margin": null,
            "max_height": null,
            "max_width": null,
            "min_height": null,
            "min_width": null,
            "object_fit": null,
            "object_position": null,
            "order": null,
            "overflow": null,
            "overflow_x": null,
            "overflow_y": null,
            "padding": null,
            "right": null,
            "top": null,
            "visibility": null,
            "width": null
          }
        },
        "2833e5b51f024b668c10dacf15c3d693": {
          "model_module": "@jupyter-widgets/controls",
          "model_name": "ProgressStyleModel",
          "model_module_version": "1.5.0",
          "state": {
            "_model_module": "@jupyter-widgets/controls",
            "_model_module_version": "1.5.0",
            "_model_name": "ProgressStyleModel",
            "_view_count": null,
            "_view_module": "@jupyter-widgets/base",
            "_view_module_version": "1.2.0",
            "_view_name": "StyleView",
            "bar_color": null,
            "description_width": ""
          }
        },
        "29a4e078d3564601992efea9e0fb9b1a": {
          "model_module": "@jupyter-widgets/base",
          "model_name": "LayoutModel",
          "model_module_version": "1.2.0",
          "state": {
            "_model_module": "@jupyter-widgets/base",
            "_model_module_version": "1.2.0",
            "_model_name": "LayoutModel",
            "_view_count": null,
            "_view_module": "@jupyter-widgets/base",
            "_view_module_version": "1.2.0",
            "_view_name": "LayoutView",
            "align_content": null,
            "align_items": null,
            "align_self": null,
            "border": null,
            "bottom": null,
            "display": null,
            "flex": null,
            "flex_flow": null,
            "grid_area": null,
            "grid_auto_columns": null,
            "grid_auto_flow": null,
            "grid_auto_rows": null,
            "grid_column": null,
            "grid_gap": null,
            "grid_row": null,
            "grid_template_areas": null,
            "grid_template_columns": null,
            "grid_template_rows": null,
            "height": null,
            "justify_content": null,
            "justify_items": null,
            "left": null,
            "margin": null,
            "max_height": null,
            "max_width": null,
            "min_height": null,
            "min_width": null,
            "object_fit": null,
            "object_position": null,
            "order": null,
            "overflow": null,
            "overflow_x": null,
            "overflow_y": null,
            "padding": null,
            "right": null,
            "top": null,
            "visibility": null,
            "width": null
          }
        },
        "2bd31e4121a9437ebf6a1432a684ca92": {
          "model_module": "@jupyter-widgets/controls",
          "model_name": "DescriptionStyleModel",
          "model_module_version": "1.5.0",
          "state": {
            "_model_module": "@jupyter-widgets/controls",
            "_model_module_version": "1.5.0",
            "_model_name": "DescriptionStyleModel",
            "_view_count": null,
            "_view_module": "@jupyter-widgets/base",
            "_view_module_version": "1.2.0",
            "_view_name": "StyleView",
            "description_width": ""
          }
        },
        "2312b3318c5644b682b901901b213179": {
          "model_module": "@jupyter-widgets/controls",
          "model_name": "HBoxModel",
          "model_module_version": "1.5.0",
          "state": {
            "_dom_classes": [],
            "_model_module": "@jupyter-widgets/controls",
            "_model_module_version": "1.5.0",
            "_model_name": "HBoxModel",
            "_view_count": null,
            "_view_module": "@jupyter-widgets/controls",
            "_view_module_version": "1.5.0",
            "_view_name": "HBoxView",
            "box_style": "",
            "children": [
              "IPY_MODEL_19fd0c82793c40a5ab0ba40446a9309a",
              "IPY_MODEL_50dd3acbb6534a6c99d1e6a695ad0266",
              "IPY_MODEL_d74218af5c134165b3f5639472b7d46a"
            ],
            "layout": "IPY_MODEL_4568d348d2ac49fda6b0924c86f46cd5"
          }
        },
        "19fd0c82793c40a5ab0ba40446a9309a": {
          "model_module": "@jupyter-widgets/controls",
          "model_name": "HTMLModel",
          "model_module_version": "1.5.0",
          "state": {
            "_dom_classes": [],
            "_model_module": "@jupyter-widgets/controls",
            "_model_module_version": "1.5.0",
            "_model_name": "HTMLModel",
            "_view_count": null,
            "_view_module": "@jupyter-widgets/controls",
            "_view_module_version": "1.5.0",
            "_view_name": "HTMLView",
            "description": "",
            "description_tooltip": null,
            "layout": "IPY_MODEL_993a0fdaba954c04b871beacd423cf98",
            "placeholder": "​",
            "style": "IPY_MODEL_7de4e062f7c948d6b53dee6f8e21be19",
            "value": "100%"
          }
        },
        "50dd3acbb6534a6c99d1e6a695ad0266": {
          "model_module": "@jupyter-widgets/controls",
          "model_name": "FloatProgressModel",
          "model_module_version": "1.5.0",
          "state": {
            "_dom_classes": [],
            "_model_module": "@jupyter-widgets/controls",
            "_model_module_version": "1.5.0",
            "_model_name": "FloatProgressModel",
            "_view_count": null,
            "_view_module": "@jupyter-widgets/controls",
            "_view_module_version": "1.5.0",
            "_view_name": "ProgressView",
            "bar_style": "success",
            "description": "",
            "description_tooltip": null,
            "layout": "IPY_MODEL_e32f307808bc4fbb824f1ad6d5316125",
            "max": 4542,
            "min": 0,
            "orientation": "horizontal",
            "style": "IPY_MODEL_59d5911c8246450b91627fdc2147128e",
            "value": 4542
          }
        },
        "d74218af5c134165b3f5639472b7d46a": {
          "model_module": "@jupyter-widgets/controls",
          "model_name": "HTMLModel",
          "model_module_version": "1.5.0",
          "state": {
            "_dom_classes": [],
            "_model_module": "@jupyter-widgets/controls",
            "_model_module_version": "1.5.0",
            "_model_name": "HTMLModel",
            "_view_count": null,
            "_view_module": "@jupyter-widgets/controls",
            "_view_module_version": "1.5.0",
            "_view_name": "HTMLView",
            "description": "",
            "description_tooltip": null,
            "layout": "IPY_MODEL_15c729c32869441a973ce73559e1bbd6",
            "placeholder": "​",
            "style": "IPY_MODEL_2a1cbb399ec945b491b4ec16f6c39580",
            "value": " 4542/4542 [00:00&lt;00:00, 203818.73it/s]"
          }
        },
        "4568d348d2ac49fda6b0924c86f46cd5": {
          "model_module": "@jupyter-widgets/base",
          "model_name": "LayoutModel",
          "model_module_version": "1.2.0",
          "state": {
            "_model_module": "@jupyter-widgets/base",
            "_model_module_version": "1.2.0",
            "_model_name": "LayoutModel",
            "_view_count": null,
            "_view_module": "@jupyter-widgets/base",
            "_view_module_version": "1.2.0",
            "_view_name": "LayoutView",
            "align_content": null,
            "align_items": null,
            "align_self": null,
            "border": null,
            "bottom": null,
            "display": null,
            "flex": null,
            "flex_flow": null,
            "grid_area": null,
            "grid_auto_columns": null,
            "grid_auto_flow": null,
            "grid_auto_rows": null,
            "grid_column": null,
            "grid_gap": null,
            "grid_row": null,
            "grid_template_areas": null,
            "grid_template_columns": null,
            "grid_template_rows": null,
            "height": null,
            "justify_content": null,
            "justify_items": null,
            "left": null,
            "margin": null,
            "max_height": null,
            "max_width": null,
            "min_height": null,
            "min_width": null,
            "object_fit": null,
            "object_position": null,
            "order": null,
            "overflow": null,
            "overflow_x": null,
            "overflow_y": null,
            "padding": null,
            "right": null,
            "top": null,
            "visibility": null,
            "width": null
          }
        },
        "993a0fdaba954c04b871beacd423cf98": {
          "model_module": "@jupyter-widgets/base",
          "model_name": "LayoutModel",
          "model_module_version": "1.2.0",
          "state": {
            "_model_module": "@jupyter-widgets/base",
            "_model_module_version": "1.2.0",
            "_model_name": "LayoutModel",
            "_view_count": null,
            "_view_module": "@jupyter-widgets/base",
            "_view_module_version": "1.2.0",
            "_view_name": "LayoutView",
            "align_content": null,
            "align_items": null,
            "align_self": null,
            "border": null,
            "bottom": null,
            "display": null,
            "flex": null,
            "flex_flow": null,
            "grid_area": null,
            "grid_auto_columns": null,
            "grid_auto_flow": null,
            "grid_auto_rows": null,
            "grid_column": null,
            "grid_gap": null,
            "grid_row": null,
            "grid_template_areas": null,
            "grid_template_columns": null,
            "grid_template_rows": null,
            "height": null,
            "justify_content": null,
            "justify_items": null,
            "left": null,
            "margin": null,
            "max_height": null,
            "max_width": null,
            "min_height": null,
            "min_width": null,
            "object_fit": null,
            "object_position": null,
            "order": null,
            "overflow": null,
            "overflow_x": null,
            "overflow_y": null,
            "padding": null,
            "right": null,
            "top": null,
            "visibility": null,
            "width": null
          }
        },
        "7de4e062f7c948d6b53dee6f8e21be19": {
          "model_module": "@jupyter-widgets/controls",
          "model_name": "DescriptionStyleModel",
          "model_module_version": "1.5.0",
          "state": {
            "_model_module": "@jupyter-widgets/controls",
            "_model_module_version": "1.5.0",
            "_model_name": "DescriptionStyleModel",
            "_view_count": null,
            "_view_module": "@jupyter-widgets/base",
            "_view_module_version": "1.2.0",
            "_view_name": "StyleView",
            "description_width": ""
          }
        },
        "e32f307808bc4fbb824f1ad6d5316125": {
          "model_module": "@jupyter-widgets/base",
          "model_name": "LayoutModel",
          "model_module_version": "1.2.0",
          "state": {
            "_model_module": "@jupyter-widgets/base",
            "_model_module_version": "1.2.0",
            "_model_name": "LayoutModel",
            "_view_count": null,
            "_view_module": "@jupyter-widgets/base",
            "_view_module_version": "1.2.0",
            "_view_name": "LayoutView",
            "align_content": null,
            "align_items": null,
            "align_self": null,
            "border": null,
            "bottom": null,
            "display": null,
            "flex": null,
            "flex_flow": null,
            "grid_area": null,
            "grid_auto_columns": null,
            "grid_auto_flow": null,
            "grid_auto_rows": null,
            "grid_column": null,
            "grid_gap": null,
            "grid_row": null,
            "grid_template_areas": null,
            "grid_template_columns": null,
            "grid_template_rows": null,
            "height": null,
            "justify_content": null,
            "justify_items": null,
            "left": null,
            "margin": null,
            "max_height": null,
            "max_width": null,
            "min_height": null,
            "min_width": null,
            "object_fit": null,
            "object_position": null,
            "order": null,
            "overflow": null,
            "overflow_x": null,
            "overflow_y": null,
            "padding": null,
            "right": null,
            "top": null,
            "visibility": null,
            "width": null
          }
        },
        "59d5911c8246450b91627fdc2147128e": {
          "model_module": "@jupyter-widgets/controls",
          "model_name": "ProgressStyleModel",
          "model_module_version": "1.5.0",
          "state": {
            "_model_module": "@jupyter-widgets/controls",
            "_model_module_version": "1.5.0",
            "_model_name": "ProgressStyleModel",
            "_view_count": null,
            "_view_module": "@jupyter-widgets/base",
            "_view_module_version": "1.2.0",
            "_view_name": "StyleView",
            "bar_color": null,
            "description_width": ""
          }
        },
        "15c729c32869441a973ce73559e1bbd6": {
          "model_module": "@jupyter-widgets/base",
          "model_name": "LayoutModel",
          "model_module_version": "1.2.0",
          "state": {
            "_model_module": "@jupyter-widgets/base",
            "_model_module_version": "1.2.0",
            "_model_name": "LayoutModel",
            "_view_count": null,
            "_view_module": "@jupyter-widgets/base",
            "_view_module_version": "1.2.0",
            "_view_name": "LayoutView",
            "align_content": null,
            "align_items": null,
            "align_self": null,
            "border": null,
            "bottom": null,
            "display": null,
            "flex": null,
            "flex_flow": null,
            "grid_area": null,
            "grid_auto_columns": null,
            "grid_auto_flow": null,
            "grid_auto_rows": null,
            "grid_column": null,
            "grid_gap": null,
            "grid_row": null,
            "grid_template_areas": null,
            "grid_template_columns": null,
            "grid_template_rows": null,
            "height": null,
            "justify_content": null,
            "justify_items": null,
            "left": null,
            "margin": null,
            "max_height": null,
            "max_width": null,
            "min_height": null,
            "min_width": null,
            "object_fit": null,
            "object_position": null,
            "order": null,
            "overflow": null,
            "overflow_x": null,
            "overflow_y": null,
            "padding": null,
            "right": null,
            "top": null,
            "visibility": null,
            "width": null
          }
        },
        "2a1cbb399ec945b491b4ec16f6c39580": {
          "model_module": "@jupyter-widgets/controls",
          "model_name": "DescriptionStyleModel",
          "model_module_version": "1.5.0",
          "state": {
            "_model_module": "@jupyter-widgets/controls",
            "_model_module_version": "1.5.0",
            "_model_name": "DescriptionStyleModel",
            "_view_count": null,
            "_view_module": "@jupyter-widgets/base",
            "_view_module_version": "1.2.0",
            "_view_name": "StyleView",
            "description_width": ""
          }
        }
      }
    }
  },
  "nbformat": 4,
  "nbformat_minor": 0
}